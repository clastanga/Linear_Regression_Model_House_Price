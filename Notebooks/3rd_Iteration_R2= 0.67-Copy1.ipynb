{
 "cells": [
  {
   "cell_type": "markdown",
   "metadata": {
    "id": "oh_NNSdga0Tt"
   },
   "source": [
    "## Loading libraries"
   ]
  },
  {
   "cell_type": "code",
   "execution_count": 3,
   "metadata": {
    "id": "7JA0NoKVauvb"
   },
   "outputs": [],
   "source": [
    "import pandas as pd\n",
    "import numpy as np\n",
    "import datetime\n",
    "import warnings\n",
    "warnings.filterwarnings('ignore')\n",
    "warnings.filterwarnings(\"ignore\", message=\"numpy.ufunc size changed\")\n",
    "import matplotlib.pyplot as plt\n",
    "import seaborn as sns\n",
    "sns.set_style(\"whitegrid\")\n",
    "%matplotlib inline\n",
    "pd.set_option('display.max_columns', None)\n",
    "import re"
   ]
  },
  {
   "cell_type": "markdown",
   "metadata": {
    "id": "KwEQQELDb6xb"
   },
   "source": [
    "## Loading data"
   ]
  },
  {
   "cell_type": "code",
   "execution_count": 4,
   "metadata": {
    "colab": {
     "base_uri": "https://localhost:8080/",
     "height": 195
    },
    "executionInfo": {
     "elapsed": 734,
     "status": "ok",
     "timestamp": 1603875491273,
     "user": {
      "displayName": "Ignacio Soteras",
      "photoUrl": "",
      "userId": "02050793736257155229"
     },
     "user_tz": -60
    },
    "id": "aWnLG3vH7JRS",
    "outputId": "9516f2ab-069d-4e05-8bc2-25cf249cdc83"
   },
   "outputs": [
    {
     "data": {
      "text/html": [
       "<div>\n",
       "<style scoped>\n",
       "    .dataframe tbody tr th:only-of-type {\n",
       "        vertical-align: middle;\n",
       "    }\n",
       "\n",
       "    .dataframe tbody tr th {\n",
       "        vertical-align: top;\n",
       "    }\n",
       "\n",
       "    .dataframe thead th {\n",
       "        text-align: right;\n",
       "    }\n",
       "</style>\n",
       "<table border=\"1\" class=\"dataframe\">\n",
       "  <thead>\n",
       "    <tr style=\"text-align: right;\">\n",
       "      <th></th>\n",
       "      <th>Unnamed: 0</th>\n",
       "      <th>sqft_above</th>\n",
       "      <th>sqft_living15</th>\n",
       "      <th>bathrooms</th>\n",
       "      <th>view</th>\n",
       "      <th>sqft_basement</th>\n",
       "      <th>floors</th>\n",
       "      <th>grade</th>\n",
       "      <th>condition</th>\n",
       "      <th>yr_built</th>\n",
       "      <th>yr_renovated</th>\n",
       "      <th>floors.1</th>\n",
       "      <th>price</th>\n",
       "    </tr>\n",
       "  </thead>\n",
       "  <tbody>\n",
       "    <tr>\n",
       "      <th>0</th>\n",
       "      <td>7316</td>\n",
       "      <td>1450</td>\n",
       "      <td>1260</td>\n",
       "      <td>1.0</td>\n",
       "      <td>0</td>\n",
       "      <td>0</td>\n",
       "      <td>1.0</td>\n",
       "      <td>7</td>\n",
       "      <td>4</td>\n",
       "      <td>1954</td>\n",
       "      <td>0</td>\n",
       "      <td>1.0</td>\n",
       "      <td>435000</td>\n",
       "    </tr>\n",
       "    <tr>\n",
       "      <th>1</th>\n",
       "      <td>20586</td>\n",
       "      <td>3310</td>\n",
       "      <td>2380</td>\n",
       "      <td>2.5</td>\n",
       "      <td>0</td>\n",
       "      <td>0</td>\n",
       "      <td>2.0</td>\n",
       "      <td>8</td>\n",
       "      <td>3</td>\n",
       "      <td>2012</td>\n",
       "      <td>0</td>\n",
       "      <td>2.0</td>\n",
       "      <td>555000</td>\n",
       "    </tr>\n",
       "    <tr>\n",
       "      <th>2</th>\n",
       "      <td>1040</td>\n",
       "      <td>1140</td>\n",
       "      <td>2200</td>\n",
       "      <td>2.5</td>\n",
       "      <td>0</td>\n",
       "      <td>800</td>\n",
       "      <td>1.0</td>\n",
       "      <td>7</td>\n",
       "      <td>4</td>\n",
       "      <td>1976</td>\n",
       "      <td>0</td>\n",
       "      <td>1.0</td>\n",
       "      <td>550000</td>\n",
       "    </tr>\n",
       "    <tr>\n",
       "      <th>3</th>\n",
       "      <td>20543</td>\n",
       "      <td>1280</td>\n",
       "      <td>1590</td>\n",
       "      <td>2.5</td>\n",
       "      <td>0</td>\n",
       "      <td>350</td>\n",
       "      <td>2.0</td>\n",
       "      <td>7</td>\n",
       "      <td>3</td>\n",
       "      <td>2009</td>\n",
       "      <td>0</td>\n",
       "      <td>2.0</td>\n",
       "      <td>295000</td>\n",
       "    </tr>\n",
       "    <tr>\n",
       "      <th>4</th>\n",
       "      <td>9587</td>\n",
       "      <td>1700</td>\n",
       "      <td>2380</td>\n",
       "      <td>2.5</td>\n",
       "      <td>0</td>\n",
       "      <td>900</td>\n",
       "      <td>1.0</td>\n",
       "      <td>9</td>\n",
       "      <td>4</td>\n",
       "      <td>1951</td>\n",
       "      <td>0</td>\n",
       "      <td>1.0</td>\n",
       "      <td>790000</td>\n",
       "    </tr>\n",
       "  </tbody>\n",
       "</table>\n",
       "</div>"
      ],
      "text/plain": [
       "   Unnamed: 0  sqft_above  sqft_living15  bathrooms  view  sqft_basement  \\\n",
       "0        7316        1450           1260        1.0     0              0   \n",
       "1       20586        3310           2380        2.5     0              0   \n",
       "2        1040        1140           2200        2.5     0            800   \n",
       "3       20543        1280           1590        2.5     0            350   \n",
       "4        9587        1700           2380        2.5     0            900   \n",
       "\n",
       "   floors  grade  condition  yr_built  yr_renovated  floors.1   price  \n",
       "0     1.0      7          4      1954             0       1.0  435000  \n",
       "1     2.0      8          3      2012             0       2.0  555000  \n",
       "2     1.0      7          4      1976             0       1.0  550000  \n",
       "3     2.0      7          3      2009             0       2.0  295000  \n",
       "4     1.0      9          4      1951             0       1.0  790000  "
      ]
     },
     "execution_count": 4,
     "metadata": {},
     "output_type": "execute_result"
    }
   ],
   "source": [
    "data = pd.read_csv('/Users/claudia/Ironhack/Linear_Regression_Model/Linear_Regression_Model_House_Price/Datasets/df_2nd_iter.csv') \n",
    "data.head()"
   ]
  },
  {
   "cell_type": "code",
   "execution_count": 5,
   "metadata": {
    "colab": {
     "base_uri": "https://localhost:8080/",
     "height": 370
    },
    "executionInfo": {
     "elapsed": 735,
     "status": "ok",
     "timestamp": 1603875513231,
     "user": {
      "displayName": "Ignacio Soteras",
      "photoUrl": "",
      "userId": "02050793736257155229"
     },
     "user_tz": -60
    },
    "id": "drj9VcoqcYbk",
    "outputId": "286f36fc-de6f-4272-a2ca-857a3b75775f"
   },
   "outputs": [
    {
     "name": "stdout",
     "output_type": "stream",
     "text": [
      "<class 'pandas.core.frame.DataFrame'>\n",
      "RangeIndex: 21597 entries, 0 to 21596\n",
      "Data columns (total 13 columns):\n",
      " #   Column         Non-Null Count  Dtype  \n",
      "---  ------         --------------  -----  \n",
      " 0   Unnamed: 0     21597 non-null  int64  \n",
      " 1   sqft_above     21597 non-null  int64  \n",
      " 2   sqft_living15  21597 non-null  int64  \n",
      " 3   bathrooms      21597 non-null  float64\n",
      " 4   view           21597 non-null  int64  \n",
      " 5   sqft_basement  21597 non-null  int64  \n",
      " 6   floors         21597 non-null  float64\n",
      " 7   grade          21597 non-null  int64  \n",
      " 8   condition      21597 non-null  int64  \n",
      " 9   yr_built       21597 non-null  int64  \n",
      " 10  yr_renovated   21597 non-null  int64  \n",
      " 11  floors.1       21597 non-null  float64\n",
      " 12  price          21597 non-null  int64  \n",
      "dtypes: float64(3), int64(10)\n",
      "memory usage: 2.1 MB\n"
     ]
    }
   ],
   "source": [
    "data.info()"
   ]
  },
  {
   "cell_type": "code",
   "execution_count": 6,
   "metadata": {},
   "outputs": [],
   "source": [
    "data = data.drop(['Unnamed: 0', 'floors.1'], axis=1)"
   ]
  },
  {
   "cell_type": "markdown",
   "metadata": {
    "id": "rKoUsHvKb-Jj"
   },
   "source": [
    "## Splitting the dataset between the categorical and numerical columns"
   ]
  },
  {
   "cell_type": "code",
   "execution_count": 7,
   "metadata": {
    "colab": {
     "base_uri": "https://localhost:8080/",
     "height": 854
    },
    "executionInfo": {
     "elapsed": 742,
     "status": "ok",
     "timestamp": 1603875582490,
     "user": {
      "displayName": "Ignacio Soteras",
      "photoUrl": "",
      "userId": "02050793736257155229"
     },
     "user_tz": -60
    },
    "id": "-e8r0HlLcIuy",
    "outputId": "a76299ee-2389-49d1-cd00-a7046be085f6"
   },
   "outputs": [
    {
     "name": "stdout",
     "output_type": "stream",
     "text": [
      "Dataframe of numerical columns: \n",
      "\n"
     ]
    },
    {
     "data": {
      "text/html": [
       "<div>\n",
       "<style scoped>\n",
       "    .dataframe tbody tr th:only-of-type {\n",
       "        vertical-align: middle;\n",
       "    }\n",
       "\n",
       "    .dataframe tbody tr th {\n",
       "        vertical-align: top;\n",
       "    }\n",
       "\n",
       "    .dataframe thead th {\n",
       "        text-align: right;\n",
       "    }\n",
       "</style>\n",
       "<table border=\"1\" class=\"dataframe\">\n",
       "  <thead>\n",
       "    <tr style=\"text-align: right;\">\n",
       "      <th></th>\n",
       "      <th>sqft_above</th>\n",
       "      <th>sqft_living15</th>\n",
       "      <th>bathrooms</th>\n",
       "      <th>view</th>\n",
       "      <th>sqft_basement</th>\n",
       "      <th>floors</th>\n",
       "      <th>grade</th>\n",
       "      <th>condition</th>\n",
       "      <th>yr_built</th>\n",
       "      <th>yr_renovated</th>\n",
       "      <th>price</th>\n",
       "    </tr>\n",
       "  </thead>\n",
       "  <tbody>\n",
       "    <tr>\n",
       "      <th>0</th>\n",
       "      <td>1450</td>\n",
       "      <td>1260</td>\n",
       "      <td>1.00</td>\n",
       "      <td>0</td>\n",
       "      <td>0</td>\n",
       "      <td>1.0</td>\n",
       "      <td>7</td>\n",
       "      <td>4</td>\n",
       "      <td>1954</td>\n",
       "      <td>0</td>\n",
       "      <td>435000</td>\n",
       "    </tr>\n",
       "    <tr>\n",
       "      <th>1</th>\n",
       "      <td>3310</td>\n",
       "      <td>2380</td>\n",
       "      <td>2.50</td>\n",
       "      <td>0</td>\n",
       "      <td>0</td>\n",
       "      <td>2.0</td>\n",
       "      <td>8</td>\n",
       "      <td>3</td>\n",
       "      <td>2012</td>\n",
       "      <td>0</td>\n",
       "      <td>555000</td>\n",
       "    </tr>\n",
       "    <tr>\n",
       "      <th>2</th>\n",
       "      <td>1140</td>\n",
       "      <td>2200</td>\n",
       "      <td>2.50</td>\n",
       "      <td>0</td>\n",
       "      <td>800</td>\n",
       "      <td>1.0</td>\n",
       "      <td>7</td>\n",
       "      <td>4</td>\n",
       "      <td>1976</td>\n",
       "      <td>0</td>\n",
       "      <td>550000</td>\n",
       "    </tr>\n",
       "    <tr>\n",
       "      <th>3</th>\n",
       "      <td>1280</td>\n",
       "      <td>1590</td>\n",
       "      <td>2.50</td>\n",
       "      <td>0</td>\n",
       "      <td>350</td>\n",
       "      <td>2.0</td>\n",
       "      <td>7</td>\n",
       "      <td>3</td>\n",
       "      <td>2009</td>\n",
       "      <td>0</td>\n",
       "      <td>295000</td>\n",
       "    </tr>\n",
       "    <tr>\n",
       "      <th>4</th>\n",
       "      <td>1700</td>\n",
       "      <td>2380</td>\n",
       "      <td>2.50</td>\n",
       "      <td>0</td>\n",
       "      <td>900</td>\n",
       "      <td>1.0</td>\n",
       "      <td>9</td>\n",
       "      <td>4</td>\n",
       "      <td>1951</td>\n",
       "      <td>0</td>\n",
       "      <td>790000</td>\n",
       "    </tr>\n",
       "    <tr>\n",
       "      <th>...</th>\n",
       "      <td>...</td>\n",
       "      <td>...</td>\n",
       "      <td>...</td>\n",
       "      <td>...</td>\n",
       "      <td>...</td>\n",
       "      <td>...</td>\n",
       "      <td>...</td>\n",
       "      <td>...</td>\n",
       "      <td>...</td>\n",
       "      <td>...</td>\n",
       "      <td>...</td>\n",
       "    </tr>\n",
       "    <tr>\n",
       "      <th>21592</th>\n",
       "      <td>1380</td>\n",
       "      <td>1810</td>\n",
       "      <td>1.75</td>\n",
       "      <td>1</td>\n",
       "      <td>600</td>\n",
       "      <td>1.0</td>\n",
       "      <td>8</td>\n",
       "      <td>4</td>\n",
       "      <td>1960</td>\n",
       "      <td>0</td>\n",
       "      <td>725000</td>\n",
       "    </tr>\n",
       "    <tr>\n",
       "      <th>21593</th>\n",
       "      <td>1410</td>\n",
       "      <td>2950</td>\n",
       "      <td>2.00</td>\n",
       "      <td>0</td>\n",
       "      <td>0</td>\n",
       "      <td>1.0</td>\n",
       "      <td>7</td>\n",
       "      <td>4</td>\n",
       "      <td>1985</td>\n",
       "      <td>0</td>\n",
       "      <td>335000</td>\n",
       "    </tr>\n",
       "    <tr>\n",
       "      <th>21594</th>\n",
       "      <td>1870</td>\n",
       "      <td>1870</td>\n",
       "      <td>2.00</td>\n",
       "      <td>0</td>\n",
       "      <td>0</td>\n",
       "      <td>1.5</td>\n",
       "      <td>7</td>\n",
       "      <td>3</td>\n",
       "      <td>1960</td>\n",
       "      <td>0</td>\n",
       "      <td>450000</td>\n",
       "    </tr>\n",
       "    <tr>\n",
       "      <th>21595</th>\n",
       "      <td>720</td>\n",
       "      <td>920</td>\n",
       "      <td>1.75</td>\n",
       "      <td>0</td>\n",
       "      <td>670</td>\n",
       "      <td>1.0</td>\n",
       "      <td>6</td>\n",
       "      <td>3</td>\n",
       "      <td>1941</td>\n",
       "      <td>0</td>\n",
       "      <td>445500</td>\n",
       "    </tr>\n",
       "    <tr>\n",
       "      <th>21596</th>\n",
       "      <td>2440</td>\n",
       "      <td>2170</td>\n",
       "      <td>2.25</td>\n",
       "      <td>0</td>\n",
       "      <td>1310</td>\n",
       "      <td>2.0</td>\n",
       "      <td>8</td>\n",
       "      <td>5</td>\n",
       "      <td>1924</td>\n",
       "      <td>0</td>\n",
       "      <td>1310000</td>\n",
       "    </tr>\n",
       "  </tbody>\n",
       "</table>\n",
       "<p>21597 rows × 11 columns</p>\n",
       "</div>"
      ],
      "text/plain": [
       "       sqft_above  sqft_living15  bathrooms  view  sqft_basement  floors  \\\n",
       "0            1450           1260       1.00     0              0     1.0   \n",
       "1            3310           2380       2.50     0              0     2.0   \n",
       "2            1140           2200       2.50     0            800     1.0   \n",
       "3            1280           1590       2.50     0            350     2.0   \n",
       "4            1700           2380       2.50     0            900     1.0   \n",
       "...           ...            ...        ...   ...            ...     ...   \n",
       "21592        1380           1810       1.75     1            600     1.0   \n",
       "21593        1410           2950       2.00     0              0     1.0   \n",
       "21594        1870           1870       2.00     0              0     1.5   \n",
       "21595         720            920       1.75     0            670     1.0   \n",
       "21596        2440           2170       2.25     0           1310     2.0   \n",
       "\n",
       "       grade  condition  yr_built  yr_renovated    price  \n",
       "0          7          4      1954             0   435000  \n",
       "1          8          3      2012             0   555000  \n",
       "2          7          4      1976             0   550000  \n",
       "3          7          3      2009             0   295000  \n",
       "4          9          4      1951             0   790000  \n",
       "...      ...        ...       ...           ...      ...  \n",
       "21592      8          4      1960             0   725000  \n",
       "21593      7          4      1985             0   335000  \n",
       "21594      7          3      1960             0   450000  \n",
       "21595      6          3      1941             0   445500  \n",
       "21596      8          5      1924             0  1310000  \n",
       "\n",
       "[21597 rows x 11 columns]"
      ]
     },
     "metadata": {},
     "output_type": "display_data"
    },
    {
     "name": "stdout",
     "output_type": "stream",
     "text": [
      "Dataframe of categorical columns: \n",
      "\n"
     ]
    },
    {
     "data": {
      "text/html": [
       "<div>\n",
       "<style scoped>\n",
       "    .dataframe tbody tr th:only-of-type {\n",
       "        vertical-align: middle;\n",
       "    }\n",
       "\n",
       "    .dataframe tbody tr th {\n",
       "        vertical-align: top;\n",
       "    }\n",
       "\n",
       "    .dataframe thead th {\n",
       "        text-align: right;\n",
       "    }\n",
       "</style>\n",
       "<table border=\"1\" class=\"dataframe\">\n",
       "  <thead>\n",
       "    <tr style=\"text-align: right;\">\n",
       "      <th></th>\n",
       "    </tr>\n",
       "  </thead>\n",
       "  <tbody>\n",
       "    <tr>\n",
       "      <th>0</th>\n",
       "    </tr>\n",
       "    <tr>\n",
       "      <th>1</th>\n",
       "    </tr>\n",
       "    <tr>\n",
       "      <th>2</th>\n",
       "    </tr>\n",
       "    <tr>\n",
       "      <th>3</th>\n",
       "    </tr>\n",
       "    <tr>\n",
       "      <th>4</th>\n",
       "    </tr>\n",
       "    <tr>\n",
       "      <th>...</th>\n",
       "    </tr>\n",
       "    <tr>\n",
       "      <th>21592</th>\n",
       "    </tr>\n",
       "    <tr>\n",
       "      <th>21593</th>\n",
       "    </tr>\n",
       "    <tr>\n",
       "      <th>21594</th>\n",
       "    </tr>\n",
       "    <tr>\n",
       "      <th>21595</th>\n",
       "    </tr>\n",
       "    <tr>\n",
       "      <th>21596</th>\n",
       "    </tr>\n",
       "  </tbody>\n",
       "</table>\n",
       "<p>21597 rows × 0 columns</p>\n",
       "</div>"
      ],
      "text/plain": [
       "Empty DataFrame\n",
       "Columns: []\n",
       "Index: [0, 1, 2, 3, 4, 5, 6, 7, 8, 9, 10, 11, 12, 13, 14, 15, 16, 17, 18, 19, 20, 21, 22, 23, 24, 25, 26, 27, 28, 29, 30, 31, 32, 33, 34, 35, 36, 37, 38, 39, 40, 41, 42, 43, 44, 45, 46, 47, 48, 49, 50, 51, 52, 53, 54, 55, 56, 57, 58, 59, 60, 61, 62, 63, 64, 65, 66, 67, 68, 69, 70, 71, 72, 73, 74, 75, 76, 77, 78, 79, 80, 81, 82, 83, 84, 85, 86, 87, 88, 89, 90, 91, 92, 93, 94, 95, 96, 97, 98, 99, ...]\n",
       "\n",
       "[21597 rows x 0 columns]"
      ]
     },
     "metadata": {},
     "output_type": "display_data"
    }
   ],
   "source": [
    "categoricals = data.select_dtypes(np.object)\n",
    "numericals = data.select_dtypes(np.number)\n",
    "\n",
    "\n",
    "print(\"Dataframe of numerical columns: \")\n",
    "print()\n",
    "\n",
    "display(numericals)\n",
    "\n",
    "print(\"Dataframe of categorical columns: \")\n",
    "print()\n",
    "\n",
    "display(categoricals)"
   ]
  },
  {
   "cell_type": "markdown",
   "metadata": {},
   "source": [
    "## Normalising with StandardScaler"
   ]
  },
  {
   "cell_type": "code",
   "execution_count": 8,
   "metadata": {},
   "outputs": [],
   "source": [
    "#Lets apply scaling to the numerical columns except the final column\n",
    "#which will be our y variable, average gift\n",
    "\n",
    "from sklearn.preprocessing import StandardScaler\n",
    "\n",
    "transformer = StandardScaler().fit(numericals.iloc[:,:-1])\n",
    "scaled_numericals = transformer.transform(numericals.iloc[:,:-1])"
   ]
  },
  {
   "cell_type": "markdown",
   "metadata": {
    "id": "3RUfHPrjnV1e"
   },
   "source": [
    "Getting a dataframe with the result from the standard scaler which is a numpy array.\n",
    "\n",
    "As the numpy arrays doesn't have column names, we pick up the column names from the numerical (original) dataframe."
   ]
  },
  {
   "cell_type": "code",
   "execution_count": 9,
   "metadata": {},
   "outputs": [],
   "source": [
    "pdscaled_numericals= pd.DataFrame(scaled_numericals,columns=numericals.columns.tolist()[:-1])"
   ]
  },
  {
   "cell_type": "code",
   "execution_count": 10,
   "metadata": {},
   "outputs": [
    {
     "data": {
      "text/html": [
       "<div>\n",
       "<style scoped>\n",
       "    .dataframe tbody tr th:only-of-type {\n",
       "        vertical-align: middle;\n",
       "    }\n",
       "\n",
       "    .dataframe tbody tr th {\n",
       "        vertical-align: top;\n",
       "    }\n",
       "\n",
       "    .dataframe thead th {\n",
       "        text-align: right;\n",
       "    }\n",
       "</style>\n",
       "<table border=\"1\" class=\"dataframe\">\n",
       "  <thead>\n",
       "    <tr style=\"text-align: right;\">\n",
       "      <th></th>\n",
       "      <th>sqft_above</th>\n",
       "      <th>sqft_living15</th>\n",
       "      <th>bathrooms</th>\n",
       "      <th>view</th>\n",
       "      <th>sqft_basement</th>\n",
       "      <th>floors</th>\n",
       "      <th>grade</th>\n",
       "      <th>condition</th>\n",
       "      <th>yr_built</th>\n",
       "      <th>yr_renovated</th>\n",
       "    </tr>\n",
       "  </thead>\n",
       "  <tbody>\n",
       "    <tr>\n",
       "      <th>0</th>\n",
       "      <td>-0.409062</td>\n",
       "      <td>-1.060427</td>\n",
       "      <td>-1.451073</td>\n",
       "      <td>-0.305715</td>\n",
       "      <td>-0.659031</td>\n",
       "      <td>-0.915552</td>\n",
       "      <td>-0.560800</td>\n",
       "      <td>0.907220</td>\n",
       "      <td>-0.578721</td>\n",
       "      <td>-0.21021</td>\n",
       "    </tr>\n",
       "    <tr>\n",
       "      <th>1</th>\n",
       "      <td>1.838019</td>\n",
       "      <td>0.574097</td>\n",
       "      <td>0.499597</td>\n",
       "      <td>-0.305715</td>\n",
       "      <td>-0.659031</td>\n",
       "      <td>0.937431</td>\n",
       "      <td>0.291589</td>\n",
       "      <td>-0.629986</td>\n",
       "      <td>1.395777</td>\n",
       "      <td>-0.21021</td>\n",
       "    </tr>\n",
       "    <tr>\n",
       "      <th>2</th>\n",
       "      <td>-0.783575</td>\n",
       "      <td>0.311406</td>\n",
       "      <td>0.499597</td>\n",
       "      <td>-0.305715</td>\n",
       "      <td>1.148235</td>\n",
       "      <td>-0.915552</td>\n",
       "      <td>-0.560800</td>\n",
       "      <td>0.907220</td>\n",
       "      <td>0.170226</td>\n",
       "      <td>-0.21021</td>\n",
       "    </tr>\n",
       "    <tr>\n",
       "      <th>3</th>\n",
       "      <td>-0.614440</td>\n",
       "      <td>-0.578826</td>\n",
       "      <td>0.499597</td>\n",
       "      <td>-0.305715</td>\n",
       "      <td>0.131648</td>\n",
       "      <td>0.937431</td>\n",
       "      <td>-0.560800</td>\n",
       "      <td>-0.629986</td>\n",
       "      <td>1.293648</td>\n",
       "      <td>-0.21021</td>\n",
       "    </tr>\n",
       "    <tr>\n",
       "      <th>4</th>\n",
       "      <td>-0.107035</td>\n",
       "      <td>0.574097</td>\n",
       "      <td>0.499597</td>\n",
       "      <td>-0.305715</td>\n",
       "      <td>1.374143</td>\n",
       "      <td>-0.915552</td>\n",
       "      <td>1.143979</td>\n",
       "      <td>0.907220</td>\n",
       "      <td>-0.680850</td>\n",
       "      <td>-0.21021</td>\n",
       "    </tr>\n",
       "  </tbody>\n",
       "</table>\n",
       "</div>"
      ],
      "text/plain": [
       "   sqft_above  sqft_living15  bathrooms      view  sqft_basement    floors  \\\n",
       "0   -0.409062      -1.060427  -1.451073 -0.305715      -0.659031 -0.915552   \n",
       "1    1.838019       0.574097   0.499597 -0.305715      -0.659031  0.937431   \n",
       "2   -0.783575       0.311406   0.499597 -0.305715       1.148235 -0.915552   \n",
       "3   -0.614440      -0.578826   0.499597 -0.305715       0.131648  0.937431   \n",
       "4   -0.107035       0.574097   0.499597 -0.305715       1.374143 -0.915552   \n",
       "\n",
       "      grade  condition  yr_built  yr_renovated  \n",
       "0 -0.560800   0.907220 -0.578721      -0.21021  \n",
       "1  0.291589  -0.629986  1.395777      -0.21021  \n",
       "2 -0.560800   0.907220  0.170226      -0.21021  \n",
       "3 -0.560800  -0.629986  1.293648      -0.21021  \n",
       "4  1.143979   0.907220 -0.680850      -0.21021  "
      ]
     },
     "execution_count": 10,
     "metadata": {},
     "output_type": "execute_result"
    }
   ],
   "source": [
    "pdscaled_numericals.head()"
   ]
  },
  {
   "cell_type": "markdown",
   "metadata": {
    "id": "LgMCuhjQeBce"
   },
   "source": [
    "## Putting everything together"
   ]
  },
  {
   "cell_type": "code",
   "execution_count": 11,
   "metadata": {
    "colab": {
     "base_uri": "https://localhost:8080/",
     "height": 455
    },
    "executionInfo": {
     "elapsed": 753,
     "status": "ok",
     "timestamp": 1603876112119,
     "user": {
      "displayName": "Ignacio Soteras",
      "photoUrl": "",
      "userId": "02050793736257155229"
     },
     "user_tz": -60
    },
    "id": "tg7KTwMIeE34",
    "outputId": "fb10eae2-2d8d-4080-cc42-bf77c52f965c"
   },
   "outputs": [
    {
     "name": "stdout",
     "output_type": "stream",
     "text": [
      "The dataset size is:  (21597, 10)\n",
      "\n"
     ]
    },
    {
     "data": {
      "text/html": [
       "<div>\n",
       "<style scoped>\n",
       "    .dataframe tbody tr th:only-of-type {\n",
       "        vertical-align: middle;\n",
       "    }\n",
       "\n",
       "    .dataframe tbody tr th {\n",
       "        vertical-align: top;\n",
       "    }\n",
       "\n",
       "    .dataframe thead th {\n",
       "        text-align: right;\n",
       "    }\n",
       "</style>\n",
       "<table border=\"1\" class=\"dataframe\">\n",
       "  <thead>\n",
       "    <tr style=\"text-align: right;\">\n",
       "      <th></th>\n",
       "      <th>sqft_above</th>\n",
       "      <th>sqft_living15</th>\n",
       "      <th>bathrooms</th>\n",
       "      <th>view</th>\n",
       "      <th>sqft_basement</th>\n",
       "      <th>floors</th>\n",
       "      <th>grade</th>\n",
       "      <th>condition</th>\n",
       "      <th>yr_built</th>\n",
       "      <th>price</th>\n",
       "    </tr>\n",
       "  </thead>\n",
       "  <tbody>\n",
       "    <tr>\n",
       "      <th>0</th>\n",
       "      <td>-0.409062</td>\n",
       "      <td>-1.060427</td>\n",
       "      <td>-1.451073</td>\n",
       "      <td>-0.305715</td>\n",
       "      <td>-0.659031</td>\n",
       "      <td>-0.915552</td>\n",
       "      <td>-0.560800</td>\n",
       "      <td>0.907220</td>\n",
       "      <td>-0.578721</td>\n",
       "      <td>435000</td>\n",
       "    </tr>\n",
       "    <tr>\n",
       "      <th>1</th>\n",
       "      <td>1.838019</td>\n",
       "      <td>0.574097</td>\n",
       "      <td>0.499597</td>\n",
       "      <td>-0.305715</td>\n",
       "      <td>-0.659031</td>\n",
       "      <td>0.937431</td>\n",
       "      <td>0.291589</td>\n",
       "      <td>-0.629986</td>\n",
       "      <td>1.395777</td>\n",
       "      <td>555000</td>\n",
       "    </tr>\n",
       "    <tr>\n",
       "      <th>2</th>\n",
       "      <td>-0.783575</td>\n",
       "      <td>0.311406</td>\n",
       "      <td>0.499597</td>\n",
       "      <td>-0.305715</td>\n",
       "      <td>1.148235</td>\n",
       "      <td>-0.915552</td>\n",
       "      <td>-0.560800</td>\n",
       "      <td>0.907220</td>\n",
       "      <td>0.170226</td>\n",
       "      <td>550000</td>\n",
       "    </tr>\n",
       "    <tr>\n",
       "      <th>3</th>\n",
       "      <td>-0.614440</td>\n",
       "      <td>-0.578826</td>\n",
       "      <td>0.499597</td>\n",
       "      <td>-0.305715</td>\n",
       "      <td>0.131648</td>\n",
       "      <td>0.937431</td>\n",
       "      <td>-0.560800</td>\n",
       "      <td>-0.629986</td>\n",
       "      <td>1.293648</td>\n",
       "      <td>295000</td>\n",
       "    </tr>\n",
       "    <tr>\n",
       "      <th>4</th>\n",
       "      <td>-0.107035</td>\n",
       "      <td>0.574097</td>\n",
       "      <td>0.499597</td>\n",
       "      <td>-0.305715</td>\n",
       "      <td>1.374143</td>\n",
       "      <td>-0.915552</td>\n",
       "      <td>1.143979</td>\n",
       "      <td>0.907220</td>\n",
       "      <td>-0.680850</td>\n",
       "      <td>790000</td>\n",
       "    </tr>\n",
       "    <tr>\n",
       "      <th>...</th>\n",
       "      <td>...</td>\n",
       "      <td>...</td>\n",
       "      <td>...</td>\n",
       "      <td>...</td>\n",
       "      <td>...</td>\n",
       "      <td>...</td>\n",
       "      <td>...</td>\n",
       "      <td>...</td>\n",
       "      <td>...</td>\n",
       "      <td>...</td>\n",
       "    </tr>\n",
       "    <tr>\n",
       "      <th>21592</th>\n",
       "      <td>-0.493629</td>\n",
       "      <td>-0.257759</td>\n",
       "      <td>-0.475738</td>\n",
       "      <td>0.999134</td>\n",
       "      <td>0.696419</td>\n",
       "      <td>-0.915552</td>\n",
       "      <td>0.291589</td>\n",
       "      <td>0.907220</td>\n",
       "      <td>-0.374463</td>\n",
       "      <td>725000</td>\n",
       "    </tr>\n",
       "    <tr>\n",
       "      <th>21593</th>\n",
       "      <td>-0.457386</td>\n",
       "      <td>1.405953</td>\n",
       "      <td>-0.150626</td>\n",
       "      <td>-0.305715</td>\n",
       "      <td>-0.659031</td>\n",
       "      <td>-0.915552</td>\n",
       "      <td>-0.560800</td>\n",
       "      <td>0.907220</td>\n",
       "      <td>0.476614</td>\n",
       "      <td>335000</td>\n",
       "    </tr>\n",
       "    <tr>\n",
       "      <th>21594</th>\n",
       "      <td>0.098344</td>\n",
       "      <td>-0.170195</td>\n",
       "      <td>-0.150626</td>\n",
       "      <td>-0.305715</td>\n",
       "      <td>-0.659031</td>\n",
       "      <td>0.010939</td>\n",
       "      <td>-0.560800</td>\n",
       "      <td>-0.629986</td>\n",
       "      <td>-0.374463</td>\n",
       "      <td>450000</td>\n",
       "    </tr>\n",
       "    <tr>\n",
       "      <th>21595</th>\n",
       "      <td>-1.290980</td>\n",
       "      <td>-1.556622</td>\n",
       "      <td>-0.475738</td>\n",
       "      <td>-0.305715</td>\n",
       "      <td>0.854554</td>\n",
       "      <td>-0.915552</td>\n",
       "      <td>-1.413190</td>\n",
       "      <td>-0.629986</td>\n",
       "      <td>-1.021281</td>\n",
       "      <td>445500</td>\n",
       "    </tr>\n",
       "    <tr>\n",
       "      <th>21596</th>\n",
       "      <td>0.786965</td>\n",
       "      <td>0.267624</td>\n",
       "      <td>0.174486</td>\n",
       "      <td>-0.305715</td>\n",
       "      <td>2.300367</td>\n",
       "      <td>0.937431</td>\n",
       "      <td>0.291589</td>\n",
       "      <td>2.444427</td>\n",
       "      <td>-1.600013</td>\n",
       "      <td>1310000</td>\n",
       "    </tr>\n",
       "  </tbody>\n",
       "</table>\n",
       "<p>21597 rows × 10 columns</p>\n",
       "</div>"
      ],
      "text/plain": [
       "       sqft_above  sqft_living15  bathrooms      view  sqft_basement  \\\n",
       "0       -0.409062      -1.060427  -1.451073 -0.305715      -0.659031   \n",
       "1        1.838019       0.574097   0.499597 -0.305715      -0.659031   \n",
       "2       -0.783575       0.311406   0.499597 -0.305715       1.148235   \n",
       "3       -0.614440      -0.578826   0.499597 -0.305715       0.131648   \n",
       "4       -0.107035       0.574097   0.499597 -0.305715       1.374143   \n",
       "...           ...            ...        ...       ...            ...   \n",
       "21592   -0.493629      -0.257759  -0.475738  0.999134       0.696419   \n",
       "21593   -0.457386       1.405953  -0.150626 -0.305715      -0.659031   \n",
       "21594    0.098344      -0.170195  -0.150626 -0.305715      -0.659031   \n",
       "21595   -1.290980      -1.556622  -0.475738 -0.305715       0.854554   \n",
       "21596    0.786965       0.267624   0.174486 -0.305715       2.300367   \n",
       "\n",
       "         floors     grade  condition  yr_built    price  \n",
       "0     -0.915552 -0.560800   0.907220 -0.578721   435000  \n",
       "1      0.937431  0.291589  -0.629986  1.395777   555000  \n",
       "2     -0.915552 -0.560800   0.907220  0.170226   550000  \n",
       "3      0.937431 -0.560800  -0.629986  1.293648   295000  \n",
       "4     -0.915552  1.143979   0.907220 -0.680850   790000  \n",
       "...         ...       ...        ...       ...      ...  \n",
       "21592 -0.915552  0.291589   0.907220 -0.374463   725000  \n",
       "21593 -0.915552 -0.560800   0.907220  0.476614   335000  \n",
       "21594  0.010939 -0.560800  -0.629986 -0.374463   450000  \n",
       "21595 -0.915552 -1.413190  -0.629986 -1.021281   445500  \n",
       "21596  0.937431  0.291589   2.444427 -1.600013  1310000  \n",
       "\n",
       "[21597 rows x 10 columns]"
      ]
     },
     "execution_count": 11,
     "metadata": {},
     "output_type": "execute_result"
    }
   ],
   "source": [
    "full = pd.concat([pdscaled_numericals.iloc[:,:-1],numericals.iloc[:,-1]],axis=1)\n",
    "print(\"The dataset size is: \", full.shape)\n",
    "print()\n",
    "full"
   ]
  },
  {
   "cell_type": "code",
   "execution_count": 12,
   "metadata": {
    "colab": {
     "base_uri": "https://localhost:8080/",
     "height": 370
    },
    "executionInfo": {
     "elapsed": 1111,
     "status": "ok",
     "timestamp": 1603876264159,
     "user": {
      "displayName": "Ignacio Soteras",
      "photoUrl": "",
      "userId": "02050793736257155229"
     },
     "user_tz": -60
    },
    "id": "MPMo4UuUmN_Z",
    "outputId": "71c7032d-0346-4a63-aa4d-97361ee4b917"
   },
   "outputs": [
    {
     "data": {
      "text/plain": [
       "['sqft_above',\n",
       " 'sqft_living15',\n",
       " 'bathrooms',\n",
       " 'view',\n",
       " 'sqft_basement',\n",
       " 'floors',\n",
       " 'grade',\n",
       " 'condition',\n",
       " 'yr_built',\n",
       " 'price']"
      ]
     },
     "execution_count": 12,
     "metadata": {},
     "output_type": "execute_result"
    }
   ],
   "source": [
    "full.columns.tolist()"
   ]
  },
  {
   "cell_type": "code",
   "execution_count": 13,
   "metadata": {
    "id": "HDeT3XhKnaDS"
   },
   "outputs": [
    {
     "data": {
      "text/html": [
       "<div>\n",
       "<style scoped>\n",
       "    .dataframe tbody tr th:only-of-type {\n",
       "        vertical-align: middle;\n",
       "    }\n",
       "\n",
       "    .dataframe tbody tr th {\n",
       "        vertical-align: top;\n",
       "    }\n",
       "\n",
       "    .dataframe thead th {\n",
       "        text-align: right;\n",
       "    }\n",
       "</style>\n",
       "<table border=\"1\" class=\"dataframe\">\n",
       "  <thead>\n",
       "    <tr style=\"text-align: right;\">\n",
       "      <th></th>\n",
       "      <th>sqft_above</th>\n",
       "      <th>sqft_living15</th>\n",
       "      <th>bathrooms</th>\n",
       "      <th>view</th>\n",
       "      <th>sqft_basement</th>\n",
       "      <th>floors</th>\n",
       "      <th>grade</th>\n",
       "      <th>condition</th>\n",
       "      <th>yr_built</th>\n",
       "    </tr>\n",
       "  </thead>\n",
       "  <tbody>\n",
       "    <tr>\n",
       "      <th>0</th>\n",
       "      <td>-0.409062</td>\n",
       "      <td>-1.060427</td>\n",
       "      <td>-1.451073</td>\n",
       "      <td>-0.305715</td>\n",
       "      <td>-0.659031</td>\n",
       "      <td>-0.915552</td>\n",
       "      <td>-0.560800</td>\n",
       "      <td>0.907220</td>\n",
       "      <td>-0.578721</td>\n",
       "    </tr>\n",
       "    <tr>\n",
       "      <th>1</th>\n",
       "      <td>1.838019</td>\n",
       "      <td>0.574097</td>\n",
       "      <td>0.499597</td>\n",
       "      <td>-0.305715</td>\n",
       "      <td>-0.659031</td>\n",
       "      <td>0.937431</td>\n",
       "      <td>0.291589</td>\n",
       "      <td>-0.629986</td>\n",
       "      <td>1.395777</td>\n",
       "    </tr>\n",
       "    <tr>\n",
       "      <th>2</th>\n",
       "      <td>-0.783575</td>\n",
       "      <td>0.311406</td>\n",
       "      <td>0.499597</td>\n",
       "      <td>-0.305715</td>\n",
       "      <td>1.148235</td>\n",
       "      <td>-0.915552</td>\n",
       "      <td>-0.560800</td>\n",
       "      <td>0.907220</td>\n",
       "      <td>0.170226</td>\n",
       "    </tr>\n",
       "    <tr>\n",
       "      <th>3</th>\n",
       "      <td>-0.614440</td>\n",
       "      <td>-0.578826</td>\n",
       "      <td>0.499597</td>\n",
       "      <td>-0.305715</td>\n",
       "      <td>0.131648</td>\n",
       "      <td>0.937431</td>\n",
       "      <td>-0.560800</td>\n",
       "      <td>-0.629986</td>\n",
       "      <td>1.293648</td>\n",
       "    </tr>\n",
       "    <tr>\n",
       "      <th>4</th>\n",
       "      <td>-0.107035</td>\n",
       "      <td>0.574097</td>\n",
       "      <td>0.499597</td>\n",
       "      <td>-0.305715</td>\n",
       "      <td>1.374143</td>\n",
       "      <td>-0.915552</td>\n",
       "      <td>1.143979</td>\n",
       "      <td>0.907220</td>\n",
       "      <td>-0.680850</td>\n",
       "    </tr>\n",
       "  </tbody>\n",
       "</table>\n",
       "</div>"
      ],
      "text/plain": [
       "   sqft_above  sqft_living15  bathrooms      view  sqft_basement    floors  \\\n",
       "0   -0.409062      -1.060427  -1.451073 -0.305715      -0.659031 -0.915552   \n",
       "1    1.838019       0.574097   0.499597 -0.305715      -0.659031  0.937431   \n",
       "2   -0.783575       0.311406   0.499597 -0.305715       1.148235 -0.915552   \n",
       "3   -0.614440      -0.578826   0.499597 -0.305715       0.131648  0.937431   \n",
       "4   -0.107035       0.574097   0.499597 -0.305715       1.374143 -0.915552   \n",
       "\n",
       "      grade  condition  yr_built  \n",
       "0 -0.560800   0.907220 -0.578721  \n",
       "1  0.291589  -0.629986  1.395777  \n",
       "2 -0.560800   0.907220  0.170226  \n",
       "3 -0.560800  -0.629986  1.293648  \n",
       "4  1.143979   0.907220 -0.680850  "
      ]
     },
     "execution_count": 13,
     "metadata": {},
     "output_type": "execute_result"
    }
   ],
   "source": [
    "full_x = pd.DataFrame(full,columns=full.columns.tolist()[:-1])\n",
    "full_x.head()"
   ]
  },
  {
   "cell_type": "code",
   "execution_count": 14,
   "metadata": {},
   "outputs": [
    {
     "data": {
      "text/plain": [
       "Index(['sqft_above', 'sqft_living15', 'bathrooms', 'view', 'sqft_basement',\n",
       "       'floors', 'grade', 'condition', 'yr_built'],\n",
       "      dtype='object')"
      ]
     },
     "execution_count": 14,
     "metadata": {},
     "output_type": "execute_result"
    }
   ],
   "source": [
    "full_x.columns"
   ]
  },
  {
   "cell_type": "code",
   "execution_count": 15,
   "metadata": {},
   "outputs": [
    {
     "data": {
      "text/html": [
       "<div>\n",
       "<style scoped>\n",
       "    .dataframe tbody tr th:only-of-type {\n",
       "        vertical-align: middle;\n",
       "    }\n",
       "\n",
       "    .dataframe tbody tr th {\n",
       "        vertical-align: top;\n",
       "    }\n",
       "\n",
       "    .dataframe thead th {\n",
       "        text-align: right;\n",
       "    }\n",
       "</style>\n",
       "<table border=\"1\" class=\"dataframe\">\n",
       "  <thead>\n",
       "    <tr style=\"text-align: right;\">\n",
       "      <th></th>\n",
       "      <th>sqft_above</th>\n",
       "      <th>sqft_living15</th>\n",
       "      <th>bathrooms</th>\n",
       "      <th>view</th>\n",
       "      <th>sqft_basement</th>\n",
       "      <th>floors</th>\n",
       "      <th>grade</th>\n",
       "      <th>condition</th>\n",
       "      <th>yr_built</th>\n",
       "    </tr>\n",
       "  </thead>\n",
       "  <tbody>\n",
       "    <tr>\n",
       "      <th>0</th>\n",
       "      <td>-0.409062</td>\n",
       "      <td>-1.060427</td>\n",
       "      <td>-1.451073</td>\n",
       "      <td>-0.305715</td>\n",
       "      <td>-0.659031</td>\n",
       "      <td>-0.915552</td>\n",
       "      <td>-0.560800</td>\n",
       "      <td>0.907220</td>\n",
       "      <td>-0.578721</td>\n",
       "    </tr>\n",
       "    <tr>\n",
       "      <th>1</th>\n",
       "      <td>1.838019</td>\n",
       "      <td>0.574097</td>\n",
       "      <td>0.499597</td>\n",
       "      <td>-0.305715</td>\n",
       "      <td>-0.659031</td>\n",
       "      <td>0.937431</td>\n",
       "      <td>0.291589</td>\n",
       "      <td>-0.629986</td>\n",
       "      <td>1.395777</td>\n",
       "    </tr>\n",
       "    <tr>\n",
       "      <th>2</th>\n",
       "      <td>-0.783575</td>\n",
       "      <td>0.311406</td>\n",
       "      <td>0.499597</td>\n",
       "      <td>-0.305715</td>\n",
       "      <td>1.148235</td>\n",
       "      <td>-0.915552</td>\n",
       "      <td>-0.560800</td>\n",
       "      <td>0.907220</td>\n",
       "      <td>0.170226</td>\n",
       "    </tr>\n",
       "    <tr>\n",
       "      <th>3</th>\n",
       "      <td>-0.614440</td>\n",
       "      <td>-0.578826</td>\n",
       "      <td>0.499597</td>\n",
       "      <td>-0.305715</td>\n",
       "      <td>0.131648</td>\n",
       "      <td>0.937431</td>\n",
       "      <td>-0.560800</td>\n",
       "      <td>-0.629986</td>\n",
       "      <td>1.293648</td>\n",
       "    </tr>\n",
       "    <tr>\n",
       "      <th>4</th>\n",
       "      <td>-0.107035</td>\n",
       "      <td>0.574097</td>\n",
       "      <td>0.499597</td>\n",
       "      <td>-0.305715</td>\n",
       "      <td>1.374143</td>\n",
       "      <td>-0.915552</td>\n",
       "      <td>1.143979</td>\n",
       "      <td>0.907220</td>\n",
       "      <td>-0.680850</td>\n",
       "    </tr>\n",
       "    <tr>\n",
       "      <th>...</th>\n",
       "      <td>...</td>\n",
       "      <td>...</td>\n",
       "      <td>...</td>\n",
       "      <td>...</td>\n",
       "      <td>...</td>\n",
       "      <td>...</td>\n",
       "      <td>...</td>\n",
       "      <td>...</td>\n",
       "      <td>...</td>\n",
       "    </tr>\n",
       "    <tr>\n",
       "      <th>21592</th>\n",
       "      <td>-0.493629</td>\n",
       "      <td>-0.257759</td>\n",
       "      <td>-0.475738</td>\n",
       "      <td>0.999134</td>\n",
       "      <td>0.696419</td>\n",
       "      <td>-0.915552</td>\n",
       "      <td>0.291589</td>\n",
       "      <td>0.907220</td>\n",
       "      <td>-0.374463</td>\n",
       "    </tr>\n",
       "    <tr>\n",
       "      <th>21593</th>\n",
       "      <td>-0.457386</td>\n",
       "      <td>1.405953</td>\n",
       "      <td>-0.150626</td>\n",
       "      <td>-0.305715</td>\n",
       "      <td>-0.659031</td>\n",
       "      <td>-0.915552</td>\n",
       "      <td>-0.560800</td>\n",
       "      <td>0.907220</td>\n",
       "      <td>0.476614</td>\n",
       "    </tr>\n",
       "    <tr>\n",
       "      <th>21594</th>\n",
       "      <td>0.098344</td>\n",
       "      <td>-0.170195</td>\n",
       "      <td>-0.150626</td>\n",
       "      <td>-0.305715</td>\n",
       "      <td>-0.659031</td>\n",
       "      <td>0.010939</td>\n",
       "      <td>-0.560800</td>\n",
       "      <td>-0.629986</td>\n",
       "      <td>-0.374463</td>\n",
       "    </tr>\n",
       "    <tr>\n",
       "      <th>21595</th>\n",
       "      <td>-1.290980</td>\n",
       "      <td>-1.556622</td>\n",
       "      <td>-0.475738</td>\n",
       "      <td>-0.305715</td>\n",
       "      <td>0.854554</td>\n",
       "      <td>-0.915552</td>\n",
       "      <td>-1.413190</td>\n",
       "      <td>-0.629986</td>\n",
       "      <td>-1.021281</td>\n",
       "    </tr>\n",
       "    <tr>\n",
       "      <th>21596</th>\n",
       "      <td>0.786965</td>\n",
       "      <td>0.267624</td>\n",
       "      <td>0.174486</td>\n",
       "      <td>-0.305715</td>\n",
       "      <td>2.300367</td>\n",
       "      <td>0.937431</td>\n",
       "      <td>0.291589</td>\n",
       "      <td>2.444427</td>\n",
       "      <td>-1.600013</td>\n",
       "    </tr>\n",
       "  </tbody>\n",
       "</table>\n",
       "<p>21597 rows × 9 columns</p>\n",
       "</div>"
      ],
      "text/plain": [
       "       sqft_above  sqft_living15  bathrooms      view  sqft_basement  \\\n",
       "0       -0.409062      -1.060427  -1.451073 -0.305715      -0.659031   \n",
       "1        1.838019       0.574097   0.499597 -0.305715      -0.659031   \n",
       "2       -0.783575       0.311406   0.499597 -0.305715       1.148235   \n",
       "3       -0.614440      -0.578826   0.499597 -0.305715       0.131648   \n",
       "4       -0.107035       0.574097   0.499597 -0.305715       1.374143   \n",
       "...           ...            ...        ...       ...            ...   \n",
       "21592   -0.493629      -0.257759  -0.475738  0.999134       0.696419   \n",
       "21593   -0.457386       1.405953  -0.150626 -0.305715      -0.659031   \n",
       "21594    0.098344      -0.170195  -0.150626 -0.305715      -0.659031   \n",
       "21595   -1.290980      -1.556622  -0.475738 -0.305715       0.854554   \n",
       "21596    0.786965       0.267624   0.174486 -0.305715       2.300367   \n",
       "\n",
       "         floors     grade  condition  yr_built  \n",
       "0     -0.915552 -0.560800   0.907220 -0.578721  \n",
       "1      0.937431  0.291589  -0.629986  1.395777  \n",
       "2     -0.915552 -0.560800   0.907220  0.170226  \n",
       "3      0.937431 -0.560800  -0.629986  1.293648  \n",
       "4     -0.915552  1.143979   0.907220 -0.680850  \n",
       "...         ...       ...        ...       ...  \n",
       "21592 -0.915552  0.291589   0.907220 -0.374463  \n",
       "21593 -0.915552 -0.560800   0.907220  0.476614  \n",
       "21594  0.010939 -0.560800  -0.629986 -0.374463  \n",
       "21595 -0.915552 -1.413190  -0.629986 -1.021281  \n",
       "21596  0.937431  0.291589   2.444427 -1.600013  \n",
       "\n",
       "[21597 rows x 9 columns]"
      ]
     },
     "execution_count": 15,
     "metadata": {},
     "output_type": "execute_result"
    }
   ],
   "source": [
    "full_x"
   ]
  },
  {
   "cell_type": "code",
   "execution_count": 16,
   "metadata": {},
   "outputs": [],
   "source": [
    "#define X and y. \n",
    "#X is all the features, scaled numericals and encoded categoricals which are our independent variables\n",
    "#y is the variable we seek to predict \n",
    "\n",
    "X = full_x\n",
    "y = full['price']"
   ]
  },
  {
   "cell_type": "code",
   "execution_count": 17,
   "metadata": {},
   "outputs": [
    {
     "data": {
      "text/plain": [
       "array([[-0.28663077],\n",
       "       [ 0.04002461],\n",
       "       [ 0.02641397],\n",
       "       ...,\n",
       "       [-0.24579884],\n",
       "       [-0.25804842],\n",
       "       [ 2.09523136]])"
      ]
     },
     "execution_count": 17,
     "metadata": {},
     "output_type": "execute_result"
    }
   ],
   "source": [
    "# Normalazing Y \n",
    "sc_y = StandardScaler()\n",
    "y = np.array(y).reshape(-1,1)\n",
    "y = sc_y.fit_transform(y)\n",
    "#y = y.flatten()\n",
    "y"
   ]
  },
  {
   "cell_type": "markdown",
   "metadata": {
    "id": "_0OJeDCEehAq"
   },
   "source": [
    "## Splitting data intro train and test sets."
   ]
  },
  {
   "cell_type": "code",
   "execution_count": 18,
   "metadata": {
    "id": "JYFFV9Yzekbt"
   },
   "outputs": [],
   "source": [
    "from sklearn.model_selection import train_test_split\n",
    "\n",
    "X_train, X_test, y_train, y_test = train_test_split(X, y, test_size=0.25, random_state=42)"
   ]
  },
  {
   "cell_type": "markdown",
   "metadata": {},
   "source": [
    "# Getting prediction with Linear Regression"
   ]
  },
  {
   "cell_type": "code",
   "execution_count": 19,
   "metadata": {},
   "outputs": [],
   "source": [
    "from sklearn import linear_model\n",
    "from sklearn.metrics import mean_squared_error, r2_score"
   ]
  },
  {
   "cell_type": "code",
   "execution_count": 20,
   "metadata": {},
   "outputs": [
    {
     "data": {
      "text/plain": [
       "0.6256229485198577"
      ]
     },
     "execution_count": 20,
     "metadata": {},
     "output_type": "execute_result"
    }
   ],
   "source": [
    "#apply the machine learn model \n",
    "lm = linear_model.LinearRegression()\n",
    "model = lm.fit(X_train,y_train)\n",
    "lm_predictions  = lm.predict(X_test)\n",
    "r2_score(y_test, lm_predictions)\n",
    "#use r2 score to see if this is closer to the data (ie better at predicating \n",
    "#target_d, than without the help of the learning process)"
   ]
  },
  {
   "cell_type": "code",
   "execution_count": 21,
   "metadata": {},
   "outputs": [
    {
     "name": "stdout",
     "output_type": "stream",
     "text": [
      "The mean absolute error of the model in the test set is:   0.40\n",
      "The mean squared error of the model in the test set is:   0.44\n",
      "The root mean squared error of the model in the test set is:   0.66\n",
      "The R2 of the model in the test set is: 0.63\n"
     ]
    }
   ],
   "source": [
    "from sklearn.metrics import mean_absolute_error, mean_squared_error, r2_score\n",
    "\n",
    "MAE = mean_absolute_error(y_test,lm_predictions)\n",
    "MSE = mean_squared_error(y_test,lm_predictions)\n",
    "RMSE = np.sqrt(MSE)\n",
    "R2 = r2_score(y_test,lm_predictions)\n",
    "\n",
    "print(\"The mean absolute error of the model in the test set is: %6.2f\" % (MAE))\n",
    "print(\"The mean squared error of the model in the test set is: %6.2f\" % (MSE))\n",
    "print(\"The root mean squared error of the model in the test set is: %6.2f\" % (RMSE))\n",
    "print(\"The R2 of the model in the test set is: %4.2f\" % (R2))"
   ]
  },
  {
   "cell_type": "code",
   "execution_count": 22,
   "metadata": {},
   "outputs": [
    {
     "data": {
      "image/png": "[encoded data removed]",
      "text/plain": [
       "<Figure size 432x288 with 1 Axes>"
      ]
     },
     "metadata": {
      "needs_background": "light"
     },
     "output_type": "display_data"
    }
   ],
   "source": [
    "plt.scatter(x=y_test, y=lm_predictions)\n",
    "plt.title(\"True values vs Predicted Values\")\n",
    "plt.xlabel(\"True Values\")\n",
    "plt.ylabel(\"Predicted Values\")\n",
    "\n",
    "plt.show()"
   ]
  },
  {
   "cell_type": "code",
   "execution_count": 48,
   "metadata": {},
   "outputs": [
    {
     "data": {
      "image/png": "[encoded data removed]",
      "text/plain": [
       "<Figure size 432x288 with 1 Axes>"
      ]
     },
     "metadata": {
      "needs_background": "light"
     },
     "output_type": "display_data"
    }
   ],
   "source": [
    "a = sns.regplot(x=y_test, y=lm_predictions);\n",
    "fig = a.get_figure()\n",
    "fig.savefig('/Users/claudia/Ironhack/Linear_Regression_Model', dpi = 300)"
   ]
  },
  {
   "cell_type": "markdown",
   "metadata": {
    "id": "X_vH-gMcn2fg"
   },
   "source": [
    "## Training the K-NN model"
   ]
  },
  {
   "cell_type": "code",
   "execution_count": 23,
   "metadata": {
    "colab": {
     "base_uri": "https://localhost:8080/",
     "height": 67
    },
    "executionInfo": {
     "elapsed": 1179,
     "status": "ok",
     "timestamp": 1603876804688,
     "user": {
      "displayName": "Ignacio Soteras",
      "photoUrl": "",
      "userId": "02050793736257155229"
     },
     "user_tz": -60
    },
    "id": "adAKcQjen7p-",
    "outputId": "6a5915a9-b76e-49b6-b8ac-8bd838f8a4a3"
   },
   "outputs": [
    {
     "data": {
      "text/plain": [
       "KNeighborsRegressor(n_neighbors=4)"
      ]
     },
     "execution_count": 23,
     "metadata": {},
     "output_type": "execute_result"
    }
   ],
   "source": [
    "from sklearn.neighbors import KNeighborsRegressor\n",
    "\n",
    "knn_model = KNeighborsRegressor(n_neighbors=4) # The keyword \"n_neighbors\" is what sets the K.\n",
    "knn_model.fit(X_train, y_train)"
   ]
  },
  {
   "cell_type": "markdown",
   "metadata": {
    "id": "NIRgvVFyoldM"
   },
   "source": [
    "## Getting our predictions"
   ]
  },
  {
   "cell_type": "code",
   "execution_count": 24,
   "metadata": {
    "id": "fkCS99R2ooqu"
   },
   "outputs": [],
   "source": [
    "knn_predictions = knn_model.predict(X_test)\n",
    "# to get some predictions for y we use the x test set. \n",
    "# we will later compare the predictions from x test to real test y "
   ]
  },
  {
   "cell_type": "markdown",
   "metadata": {
    "id": "KldInhQ0o4Pb"
   },
   "source": [
    "## Getting the error metrics of our K-NN model"
   ]
  },
  {
   "cell_type": "code",
   "execution_count": 25,
   "metadata": {
    "colab": {
     "base_uri": "https://localhost:8080/",
     "height": 84
    },
    "executionInfo": {
     "elapsed": 764,
     "status": "ok",
     "timestamp": 1603877137877,
     "user": {
      "displayName": "Ignacio Soteras",
      "photoUrl": "",
      "userId": "02050793736257155229"
     },
     "user_tz": -60
    },
    "id": "Sowcrl3oo9zU",
    "outputId": "30f38e9c-375f-4fd0-fa90-52d3b1b6894f",
    "scrolled": true
   },
   "outputs": [
    {
     "name": "stdout",
     "output_type": "stream",
     "text": [
      "The mean absolute error of the model in the test set is:   0.37\n",
      "The mean squared error of the model in the test set is:   0.41\n",
      "The root mean squared error of the model in the test set is:   0.64\n",
      "The R2 of the model in the test set is: 0.65\n"
     ]
    }
   ],
   "source": [
    "from sklearn.metrics import mean_absolute_error, mean_squared_error, r2_score\n",
    "\n",
    "MAE = mean_absolute_error(y_test,knn_predictions)\n",
    "MSE = mean_squared_error(y_test,knn_predictions)\n",
    "RMSE = np.sqrt(MSE)\n",
    "R2 = r2_score(y_test,knn_predictions)\n",
    "\n",
    "print(\"The mean absolute error of the model in the test set is: %6.2f\" % (MAE))\n",
    "print(\"The mean squared error of the model in the test set is: %6.2f\" % (MSE))\n",
    "print(\"The root mean squared error of the model in the test set is: %6.2f\" % (RMSE))\n",
    "print(\"The R2 of the model in the test set is: %4.2f\" % (R2))"
   ]
  },
  {
   "cell_type": "code",
   "execution_count": 26,
   "metadata": {},
   "outputs": [
    {
     "data": {
      "image/png": "[encoded data removed]",
      "text/plain": [
       "<Figure size 432x288 with 1 Axes>"
      ]
     },
     "metadata": {
      "needs_background": "light"
     },
     "output_type": "display_data"
    }
   ],
   "source": [
    "plt.scatter(x=y_test, y=knn_predictions)\n",
    "plt.title(\"True values vs Predicted Values\")\n",
    "plt.xlabel(\"True Values\")\n",
    "plt.ylabel(\"Predicted Values\")\n",
    "\n",
    "plt.show()"
   ]
  },
  {
   "cell_type": "code",
   "execution_count": 49,
   "metadata": {},
   "outputs": [
    {
     "data": {
      "image/png": "[encoded data removed]",
      "text/plain": [
       "<Figure size 432x288 with 1 Axes>"
      ]
     },
     "metadata": {
      "needs_background": "light"
     },
     "output_type": "display_data"
    }
   ],
   "source": [
    "b = sns.regplot(x=y_test, y=knn_predictions);\n",
    "fig = b.get_figure()\n",
    "fig.savefig('/Users/claudia/Ironhack/Linear_Regression_Model', dpi = 300)"
   ]
  },
  {
   "cell_type": "markdown",
   "metadata": {
    "id": "kiN2mYt7553V"
   },
   "source": [
    "K \n",
    "Let's try to find the best K value from a pre-defined set of values."
   ]
  },
  {
   "cell_type": "code",
   "execution_count": 27,
   "metadata": {
    "id": "DknC39UM5_5h"
   },
   "outputs": [],
   "source": [
    "scores = [] # We will store here the R2 values for each of our K-NN models with different K-values.\n",
    "for i in range(2,10): # The values of K. = 2,3,4,5,6,7,8,9\n",
    "    model = KNeighborsRegressor(n_neighbors=i)\n",
    "    model.fit(X_train, y_train)\n",
    "    scores.append(model.score(X_test, y_test))"
   ]
  },
  {
   "cell_type": "markdown",
   "metadata": {
    "id": "VNplrwZ9772p"
   },
   "source": [
    "Now let's plot how it changes the score as a function of K."
   ]
  },
  {
   "cell_type": "code",
   "execution_count": 28,
   "metadata": {
    "colab": {
     "base_uri": "https://localhost:8080/",
     "height": 421
    },
    "executionInfo": {
     "elapsed": 1869,
     "status": "ok",
     "timestamp": 1603879349314,
     "user": {
      "displayName": "Ignacio Soteras",
      "photoUrl": "",
      "userId": "02050793736257155229"
     },
     "user_tz": -60
    },
    "id": "Opq0aRYW8A3s",
    "outputId": "ffbdbbc6-9e97-41c6-e573-7279be9c13ca",
    "scrolled": false
   },
   "outputs": [
    {
     "data": {
      "text/plain": [
       "Text(0, 0.5, 'R2')"
      ]
     },
     "execution_count": 28,
     "metadata": {},
     "output_type": "execute_result"
    },
    {
     "data": {
      "image/png": "[encoded data removed]",
      "text/plain": [
       "<Figure size 720x432 with 1 Axes>"
      ]
     },
     "metadata": {
      "needs_background": "light"
     },
     "output_type": "display_data"
    }
   ],
   "source": [
    "plt.figure(figsize=(10,6))\n",
    "plt.plot(range(2,10),scores,color = 'blue', linestyle='dashed',\n",
    "         marker='o', markerfacecolor='red', markersize=10)\n",
    "plt.title('R2 vs. K Value')\n",
    "plt.xlabel('K')\n",
    "plt.ylabel('R2')\n",
    "\n",
    "#threshold = 0.01 # minimum difference we want between two R2 consecutive values.\n",
    "#delta = 10. # difference between two consecutive R2 values.\n",
    "#k = 3 # initival value\n",
    "#old_score = 0.\n",
    "\n",
    "#while (delta >= threshold):\n",
    "#  knn_model = KNeighborsRegressor(n_neighbors=k) # The keyword \"n_neighbors\" is what sets the K.\n",
    "#  knn_model.fit(X_train, y_train)\n",
    "#  knn_predictions = knn_model.predict(X_test) \n",
    "#  new_score = r2_score(y_test,knn_predictions)\n",
    "#  delta = new_score - old_score\n",
    "#  k = k + 4 \n",
    "#  old_score = new_score"
   ]
  },
  {
   "cell_type": "markdown",
   "metadata": {},
   "source": [
    "It looks like that with K=8 we could get a better prediction"
   ]
  },
  {
   "cell_type": "code",
   "execution_count": 29,
   "metadata": {},
   "outputs": [
    {
     "data": {
      "text/plain": [
       "KNeighborsRegressor(n_neighbors=8)"
      ]
     },
     "execution_count": 29,
     "metadata": {},
     "output_type": "execute_result"
    }
   ],
   "source": [
    "knn_model = KNeighborsRegressor(n_neighbors=8) # The keyword \"n_neighbors\" is what sets the K.\n",
    "knn_model.fit(X_train, y_train)"
   ]
  },
  {
   "cell_type": "code",
   "execution_count": 30,
   "metadata": {},
   "outputs": [],
   "source": [
    "knn_predictions_k8 = knn_model.predict(X_test)"
   ]
  },
  {
   "cell_type": "code",
   "execution_count": 31,
   "metadata": {},
   "outputs": [
    {
     "name": "stdout",
     "output_type": "stream",
     "text": [
      "The mean absolute error of the model in the test set is:   0.36\n",
      "The mean squared error of the model in the test set is:   0.37\n",
      "The root mean squared error of the model in the test set is:   0.61\n",
      "The R2 of the model in the test set is: 0.68\n"
     ]
    }
   ],
   "source": [
    "MAE = mean_absolute_error(y_test,knn_predictions_k8)\n",
    "MSE = mean_squared_error(y_test,knn_predictions_k8)\n",
    "RMSE = np.sqrt(MSE)\n",
    "R2 = r2_score(y_test,knn_predictions_k8)\n",
    "\n",
    "print(\"The mean absolute error of the model in the test set is: %6.2f\" % (MAE))\n",
    "print(\"The mean squared error of the model in the test set is: %6.2f\" % (MSE))\n",
    "print(\"The root mean squared error of the model in the test set is: %6.2f\" % (RMSE))\n",
    "print(\"The R2 of the model in the test set is: %4.2f\" % (R2))"
   ]
  },
  {
   "cell_type": "code",
   "execution_count": 32,
   "metadata": {},
   "outputs": [
    {
     "data": {
      "image/png": "[encoded data removed]",
      "text/plain": [
       "<Figure size 432x288 with 1 Axes>"
      ]
     },
     "metadata": {
      "needs_background": "light"
     },
     "output_type": "display_data"
    }
   ],
   "source": [
    "plt.scatter(x=y_test, y=knn_predictions_k8)\n",
    "plt.title(\"True values vs Predicted Values\")\n",
    "plt.xlabel(\"True Values\")\n",
    "plt.ylabel(\"Predicted Values\")\n",
    "\n",
    "plt.show()"
   ]
  },
  {
   "cell_type": "code",
   "execution_count": 50,
   "metadata": {},
   "outputs": [
    {
     "data": {
      "image/png": "[encoded data removed]",
      "text/plain": [
       "<Figure size 432x288 with 1 Axes>"
      ]
     },
     "metadata": {
      "needs_background": "light"
     },
     "output_type": "display_data"
    }
   ],
   "source": [
    "c = sns.regplot(x=y_test, y=knn_predictions_k8);\n",
    "fig = c.get_figure()\n",
    "fig.savefig('/Users/claudia/Ironhack/Linear_Regression_Model', dpi = 300)"
   ]
  },
  {
   "cell_type": "markdown",
   "metadata": {},
   "source": [
    "## Best predicted score for this iteration is 0.68"
   ]
  }
 ],
 "metadata": {
  "colab": {
   "authorship_tag": "ABX9TyP5iBJELRXbi1gWIU+E16RM",
   "name": "Unit_4_Day_3_morning.ipynb",
   "provenance": [],
   "toc_visible": true
  },
  "kernelspec": {
   "display_name": "Python 3",
   "language": "python",
   "name": "python3"
  },
  "language_info": {
   "codemirror_mode": {
    "name": "ipython",
    "version": 3
   },
   "file_extension": ".py",
   "mimetype": "text/x-python",
   "name": "python",
   "nbconvert_exporter": "python",
   "pygments_lexer": "ipython3",
   "version": "3.8.3"
  }
 },
 "nbformat": 4,
 "nbformat_minor": 1
}
