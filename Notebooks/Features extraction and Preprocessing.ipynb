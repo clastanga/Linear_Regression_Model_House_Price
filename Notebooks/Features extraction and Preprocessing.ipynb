{
 "cells": [
  {
   "cell_type": "markdown",
   "metadata": {},
   "source": [
    "## Loading the libraries and data "
   ]
  },
  {
   "cell_type": "code",
   "execution_count": 1,
   "metadata": {},
   "outputs": [],
   "source": [
    "import pandas as pd\n",
    "import numpy as np\n",
    "import datetime\n",
    "import warnings\n",
    "\n",
    "warnings.filterwarnings('ignore')\n",
    "warnings.filterwarnings(\"ignore\", message=\"numpy.ufunc size changed\")\n",
    "\n",
    "import matplotlib.pyplot as plt\n",
    "import seaborn as sns\n",
    "sns.set_style(\"whitegrid\")\n",
    "\n",
    "%matplotlib inline\n",
    "\n",
    "pd.set_option('display.max_columns', None)"
   ]
  },
  {
   "cell_type": "code",
   "execution_count": 2,
   "metadata": {},
   "outputs": [],
   "source": [
    "data = pd.read_csv('/Users/claudia/Ironhack/Mid-Bootcamp Project/Linear_Regression_MidBootCampProject-/df_2nd_iter.csv')"
   ]
  },
  {
   "cell_type": "code",
   "execution_count": 3,
   "metadata": {},
   "outputs": [
    {
     "data": {
      "text/html": [
       "<div>\n",
       "<style scoped>\n",
       "    .dataframe tbody tr th:only-of-type {\n",
       "        vertical-align: middle;\n",
       "    }\n",
       "\n",
       "    .dataframe tbody tr th {\n",
       "        vertical-align: top;\n",
       "    }\n",
       "\n",
       "    .dataframe thead th {\n",
       "        text-align: right;\n",
       "    }\n",
       "</style>\n",
       "<table border=\"1\" class=\"dataframe\">\n",
       "  <thead>\n",
       "    <tr style=\"text-align: right;\">\n",
       "      <th></th>\n",
       "      <th>Unnamed: 0</th>\n",
       "      <th>sqft_above</th>\n",
       "      <th>sqft_living15</th>\n",
       "      <th>bathrooms</th>\n",
       "      <th>view</th>\n",
       "      <th>sqft_basement</th>\n",
       "      <th>floors</th>\n",
       "      <th>grade</th>\n",
       "      <th>condition</th>\n",
       "      <th>yr_built</th>\n",
       "      <th>yr_renovated</th>\n",
       "      <th>floors.1</th>\n",
       "      <th>price</th>\n",
       "    </tr>\n",
       "  </thead>\n",
       "  <tbody>\n",
       "    <tr>\n",
       "      <th>0</th>\n",
       "      <td>7316</td>\n",
       "      <td>1450</td>\n",
       "      <td>1260</td>\n",
       "      <td>1.0</td>\n",
       "      <td>0</td>\n",
       "      <td>0</td>\n",
       "      <td>1.0</td>\n",
       "      <td>7</td>\n",
       "      <td>4</td>\n",
       "      <td>1954</td>\n",
       "      <td>0</td>\n",
       "      <td>1.0</td>\n",
       "      <td>435000</td>\n",
       "    </tr>\n",
       "    <tr>\n",
       "      <th>1</th>\n",
       "      <td>20586</td>\n",
       "      <td>3310</td>\n",
       "      <td>2380</td>\n",
       "      <td>2.5</td>\n",
       "      <td>0</td>\n",
       "      <td>0</td>\n",
       "      <td>2.0</td>\n",
       "      <td>8</td>\n",
       "      <td>3</td>\n",
       "      <td>2012</td>\n",
       "      <td>0</td>\n",
       "      <td>2.0</td>\n",
       "      <td>555000</td>\n",
       "    </tr>\n",
       "    <tr>\n",
       "      <th>2</th>\n",
       "      <td>1040</td>\n",
       "      <td>1140</td>\n",
       "      <td>2200</td>\n",
       "      <td>2.5</td>\n",
       "      <td>0</td>\n",
       "      <td>800</td>\n",
       "      <td>1.0</td>\n",
       "      <td>7</td>\n",
       "      <td>4</td>\n",
       "      <td>1976</td>\n",
       "      <td>0</td>\n",
       "      <td>1.0</td>\n",
       "      <td>550000</td>\n",
       "    </tr>\n",
       "    <tr>\n",
       "      <th>3</th>\n",
       "      <td>20543</td>\n",
       "      <td>1280</td>\n",
       "      <td>1590</td>\n",
       "      <td>2.5</td>\n",
       "      <td>0</td>\n",
       "      <td>350</td>\n",
       "      <td>2.0</td>\n",
       "      <td>7</td>\n",
       "      <td>3</td>\n",
       "      <td>2009</td>\n",
       "      <td>0</td>\n",
       "      <td>2.0</td>\n",
       "      <td>295000</td>\n",
       "    </tr>\n",
       "    <tr>\n",
       "      <th>4</th>\n",
       "      <td>9587</td>\n",
       "      <td>1700</td>\n",
       "      <td>2380</td>\n",
       "      <td>2.5</td>\n",
       "      <td>0</td>\n",
       "      <td>900</td>\n",
       "      <td>1.0</td>\n",
       "      <td>9</td>\n",
       "      <td>4</td>\n",
       "      <td>1951</td>\n",
       "      <td>0</td>\n",
       "      <td>1.0</td>\n",
       "      <td>790000</td>\n",
       "    </tr>\n",
       "  </tbody>\n",
       "</table>\n",
       "</div>"
      ],
      "text/plain": [
       "   Unnamed: 0  sqft_above  sqft_living15  bathrooms  view  sqft_basement  \\\n",
       "0        7316        1450           1260        1.0     0              0   \n",
       "1       20586        3310           2380        2.5     0              0   \n",
       "2        1040        1140           2200        2.5     0            800   \n",
       "3       20543        1280           1590        2.5     0            350   \n",
       "4        9587        1700           2380        2.5     0            900   \n",
       "\n",
       "   floors  grade  condition  yr_built  yr_renovated  floors.1   price  \n",
       "0     1.0      7          4      1954             0       1.0  435000  \n",
       "1     2.0      8          3      2012             0       2.0  555000  \n",
       "2     1.0      7          4      1976             0       1.0  550000  \n",
       "3     2.0      7          3      2009             0       2.0  295000  \n",
       "4     1.0      9          4      1951             0       1.0  790000  "
      ]
     },
     "execution_count": 3,
     "metadata": {},
     "output_type": "execute_result"
    }
   ],
   "source": [
    "data.head()"
   ]
  },
  {
   "cell_type": "code",
   "execution_count": 4,
   "metadata": {},
   "outputs": [
    {
     "data": {
      "text/plain": [
       "(21597, 13)"
      ]
     },
     "execution_count": 4,
     "metadata": {},
     "output_type": "execute_result"
    }
   ],
   "source": [
    "data.shape"
   ]
  },
  {
   "cell_type": "code",
   "execution_count": 5,
   "metadata": {},
   "outputs": [],
   "source": [
    "data = data.drop(['Unnamed: 0', 'floors.1'], axis =1)"
   ]
  },
  {
   "cell_type": "code",
   "execution_count": 6,
   "metadata": {},
   "outputs": [
    {
     "name": "stdout",
     "output_type": "stream",
     "text": [
      "<class 'pandas.core.frame.DataFrame'>\n",
      "RangeIndex: 21597 entries, 0 to 21596\n",
      "Data columns (total 11 columns):\n",
      " #   Column         Non-Null Count  Dtype  \n",
      "---  ------         --------------  -----  \n",
      " 0   sqft_above     21597 non-null  int64  \n",
      " 1   sqft_living15  21597 non-null  int64  \n",
      " 2   bathrooms      21597 non-null  float64\n",
      " 3   view           21597 non-null  int64  \n",
      " 4   sqft_basement  21597 non-null  int64  \n",
      " 5   floors         21597 non-null  float64\n",
      " 6   grade          21597 non-null  int64  \n",
      " 7   condition      21597 non-null  int64  \n",
      " 8   yr_built       21597 non-null  int64  \n",
      " 9   yr_renovated   21597 non-null  int64  \n",
      " 10  price          21597 non-null  int64  \n",
      "dtypes: float64(2), int64(9)\n",
      "memory usage: 1.8 MB\n"
     ]
    }
   ],
   "source": [
    "data.info() "
   ]
  },
  {
   "cell_type": "code",
   "execution_count": 7,
   "metadata": {},
   "outputs": [
    {
     "data": {
      "text/html": [
       "<div>\n",
       "<style scoped>\n",
       "    .dataframe tbody tr th:only-of-type {\n",
       "        vertical-align: middle;\n",
       "    }\n",
       "\n",
       "    .dataframe tbody tr th {\n",
       "        vertical-align: top;\n",
       "    }\n",
       "\n",
       "    .dataframe thead th {\n",
       "        text-align: right;\n",
       "    }\n",
       "</style>\n",
       "<table border=\"1\" class=\"dataframe\">\n",
       "  <thead>\n",
       "    <tr style=\"text-align: right;\">\n",
       "      <th></th>\n",
       "      <th>sqft_above</th>\n",
       "      <th>sqft_living15</th>\n",
       "      <th>bathrooms</th>\n",
       "      <th>view</th>\n",
       "      <th>sqft_basement</th>\n",
       "      <th>floors</th>\n",
       "      <th>grade</th>\n",
       "      <th>condition</th>\n",
       "      <th>yr_built</th>\n",
       "      <th>yr_renovated</th>\n",
       "      <th>price</th>\n",
       "    </tr>\n",
       "  </thead>\n",
       "  <tbody>\n",
       "    <tr>\n",
       "      <th>0</th>\n",
       "      <td>1450</td>\n",
       "      <td>1260</td>\n",
       "      <td>1.00</td>\n",
       "      <td>0</td>\n",
       "      <td>0</td>\n",
       "      <td>1.0</td>\n",
       "      <td>7</td>\n",
       "      <td>4</td>\n",
       "      <td>1954</td>\n",
       "      <td>0</td>\n",
       "      <td>435000</td>\n",
       "    </tr>\n",
       "    <tr>\n",
       "      <th>1</th>\n",
       "      <td>3310</td>\n",
       "      <td>2380</td>\n",
       "      <td>2.50</td>\n",
       "      <td>0</td>\n",
       "      <td>0</td>\n",
       "      <td>2.0</td>\n",
       "      <td>8</td>\n",
       "      <td>3</td>\n",
       "      <td>2012</td>\n",
       "      <td>0</td>\n",
       "      <td>555000</td>\n",
       "    </tr>\n",
       "    <tr>\n",
       "      <th>2</th>\n",
       "      <td>1140</td>\n",
       "      <td>2200</td>\n",
       "      <td>2.50</td>\n",
       "      <td>0</td>\n",
       "      <td>800</td>\n",
       "      <td>1.0</td>\n",
       "      <td>7</td>\n",
       "      <td>4</td>\n",
       "      <td>1976</td>\n",
       "      <td>0</td>\n",
       "      <td>550000</td>\n",
       "    </tr>\n",
       "    <tr>\n",
       "      <th>3</th>\n",
       "      <td>1280</td>\n",
       "      <td>1590</td>\n",
       "      <td>2.50</td>\n",
       "      <td>0</td>\n",
       "      <td>350</td>\n",
       "      <td>2.0</td>\n",
       "      <td>7</td>\n",
       "      <td>3</td>\n",
       "      <td>2009</td>\n",
       "      <td>0</td>\n",
       "      <td>295000</td>\n",
       "    </tr>\n",
       "    <tr>\n",
       "      <th>4</th>\n",
       "      <td>1700</td>\n",
       "      <td>2380</td>\n",
       "      <td>2.50</td>\n",
       "      <td>0</td>\n",
       "      <td>900</td>\n",
       "      <td>1.0</td>\n",
       "      <td>9</td>\n",
       "      <td>4</td>\n",
       "      <td>1951</td>\n",
       "      <td>0</td>\n",
       "      <td>790000</td>\n",
       "    </tr>\n",
       "    <tr>\n",
       "      <th>...</th>\n",
       "      <td>...</td>\n",
       "      <td>...</td>\n",
       "      <td>...</td>\n",
       "      <td>...</td>\n",
       "      <td>...</td>\n",
       "      <td>...</td>\n",
       "      <td>...</td>\n",
       "      <td>...</td>\n",
       "      <td>...</td>\n",
       "      <td>...</td>\n",
       "      <td>...</td>\n",
       "    </tr>\n",
       "    <tr>\n",
       "      <th>21592</th>\n",
       "      <td>1380</td>\n",
       "      <td>1810</td>\n",
       "      <td>1.75</td>\n",
       "      <td>1</td>\n",
       "      <td>600</td>\n",
       "      <td>1.0</td>\n",
       "      <td>8</td>\n",
       "      <td>4</td>\n",
       "      <td>1960</td>\n",
       "      <td>0</td>\n",
       "      <td>725000</td>\n",
       "    </tr>\n",
       "    <tr>\n",
       "      <th>21593</th>\n",
       "      <td>1410</td>\n",
       "      <td>2950</td>\n",
       "      <td>2.00</td>\n",
       "      <td>0</td>\n",
       "      <td>0</td>\n",
       "      <td>1.0</td>\n",
       "      <td>7</td>\n",
       "      <td>4</td>\n",
       "      <td>1985</td>\n",
       "      <td>0</td>\n",
       "      <td>335000</td>\n",
       "    </tr>\n",
       "    <tr>\n",
       "      <th>21594</th>\n",
       "      <td>1870</td>\n",
       "      <td>1870</td>\n",
       "      <td>2.00</td>\n",
       "      <td>0</td>\n",
       "      <td>0</td>\n",
       "      <td>1.5</td>\n",
       "      <td>7</td>\n",
       "      <td>3</td>\n",
       "      <td>1960</td>\n",
       "      <td>0</td>\n",
       "      <td>450000</td>\n",
       "    </tr>\n",
       "    <tr>\n",
       "      <th>21595</th>\n",
       "      <td>720</td>\n",
       "      <td>920</td>\n",
       "      <td>1.75</td>\n",
       "      <td>0</td>\n",
       "      <td>670</td>\n",
       "      <td>1.0</td>\n",
       "      <td>6</td>\n",
       "      <td>3</td>\n",
       "      <td>1941</td>\n",
       "      <td>0</td>\n",
       "      <td>445500</td>\n",
       "    </tr>\n",
       "    <tr>\n",
       "      <th>21596</th>\n",
       "      <td>2440</td>\n",
       "      <td>2170</td>\n",
       "      <td>2.25</td>\n",
       "      <td>0</td>\n",
       "      <td>1310</td>\n",
       "      <td>2.0</td>\n",
       "      <td>8</td>\n",
       "      <td>5</td>\n",
       "      <td>1924</td>\n",
       "      <td>0</td>\n",
       "      <td>1310000</td>\n",
       "    </tr>\n",
       "  </tbody>\n",
       "</table>\n",
       "<p>21597 rows × 11 columns</p>\n",
       "</div>"
      ],
      "text/plain": [
       "       sqft_above  sqft_living15  bathrooms  view  sqft_basement  floors  \\\n",
       "0            1450           1260       1.00     0              0     1.0   \n",
       "1            3310           2380       2.50     0              0     2.0   \n",
       "2            1140           2200       2.50     0            800     1.0   \n",
       "3            1280           1590       2.50     0            350     2.0   \n",
       "4            1700           2380       2.50     0            900     1.0   \n",
       "...           ...            ...        ...   ...            ...     ...   \n",
       "21592        1380           1810       1.75     1            600     1.0   \n",
       "21593        1410           2950       2.00     0              0     1.0   \n",
       "21594        1870           1870       2.00     0              0     1.5   \n",
       "21595         720            920       1.75     0            670     1.0   \n",
       "21596        2440           2170       2.25     0           1310     2.0   \n",
       "\n",
       "       grade  condition  yr_built  yr_renovated    price  \n",
       "0          7          4      1954             0   435000  \n",
       "1          8          3      2012             0   555000  \n",
       "2          7          4      1976             0   550000  \n",
       "3          7          3      2009             0   295000  \n",
       "4          9          4      1951             0   790000  \n",
       "...      ...        ...       ...           ...      ...  \n",
       "21592      8          4      1960             0   725000  \n",
       "21593      7          4      1985             0   335000  \n",
       "21594      7          3      1960             0   450000  \n",
       "21595      6          3      1941             0   445500  \n",
       "21596      8          5      1924             0  1310000  \n",
       "\n",
       "[21597 rows x 11 columns]"
      ]
     },
     "execution_count": 7,
     "metadata": {},
     "output_type": "execute_result"
    }
   ],
   "source": [
    "numericals = data.select_dtypes(np.number)\n",
    "numericals"
   ]
  },
  {
   "cell_type": "markdown",
   "metadata": {},
   "source": [
    "## Looking at discrete variables"
   ]
  },
  {
   "cell_type": "code",
   "execution_count": 8,
   "metadata": {},
   "outputs": [
    {
     "data": {
      "text/plain": [
       "['bathrooms',\n",
       " 'view',\n",
       " 'floors',\n",
       " 'grade',\n",
       " 'condition',\n",
       " 'yr_built',\n",
       " 'yr_renovated']"
      ]
     },
     "execution_count": 8,
     "metadata": {},
     "output_type": "execute_result"
    }
   ],
   "source": [
    "discrete = [i for i in numericals if (len(numericals[i].unique()) < (numericals.shape[0] * 0.01))]\n",
    "discrete"
   ]
  },
  {
   "cell_type": "code",
   "execution_count": 9,
   "metadata": {},
   "outputs": [],
   "source": [
    "discrete_df=numericals[discrete]\n"
   ]
  },
  {
   "cell_type": "code",
   "execution_count": 10,
   "metadata": {},
   "outputs": [],
   "source": [
    "import matplotlib.colors as mcolors\n",
    "\n",
    "def df_hist(df):\n",
    "    sns.set(rc={'figure.figsize':(16,8)})\n",
    "    for i, col in enumerate(df):\n",
    "        plt.figure(i)\n",
    "        sns.distplot(df[col])\n",
    "        \n",
    "    plt.show()"
   ]
  },
  {
   "cell_type": "code",
   "execution_count": 11,
   "metadata": {},
   "outputs": [
    {
     "data": {
      "image/png": "[encoded data removed]",
      "text/plain": [
       "<Figure size 1152x576 with 1 Axes>"
      ]
     },
     "metadata": {},
     "output_type": "display_data"
    },
    {
     "data": {
      "image/png": "[encoded data removed]",
      "text/plain": [
       "<Figure size 1152x576 with 1 Axes>"
      ]
     },
     "metadata": {},
     "output_type": "display_data"
    },
    {
     "data": {
      "image/png": "[encoded data removed]",
      "text/plain": [
       "<Figure size 1152x576 with 1 Axes>"
      ]
     },
     "metadata": {},
     "output_type": "display_data"
    },
    {
     "data": {
      "image/png": "[encoded data removed]",
      "text/plain": [
       "<Figure size 1152x576 with 1 Axes>"
      ]
     },
     "metadata": {},
     "output_type": "display_data"
    },
    {
     "data": {
      "image/png": "[encoded data removed]",
      "text/plain": [
       "<Figure size 1152x576 with 1 Axes>"
      ]
     },
     "metadata": {},
     "output_type": "display_data"
    },
    {
     "data": {
      "image/png": "[encoded data removed]",
      "text/plain": [
       "<Figure size 1152x576 with 1 Axes>"
      ]
     },
     "metadata": {},
     "output_type": "display_data"
    },
    {
     "data": {
      "image/png": "[encoded data removed]",
      "text/plain": [
       "<Figure size 1152x576 with 1 Axes>"
      ]
     },
     "metadata": {},
     "output_type": "display_data"
    }
   ],
   "source": [
    "df_hist(discrete_df);"
   ]
  },
  {
   "cell_type": "markdown",
   "metadata": {},
   "source": [
    "Some of these discrete variables can be grouped by. Based on The visualisation on Tableau and the data quesries on SQL I thought about grouping based on counts of each discrete variables."
   ]
  },
  {
   "cell_type": "code",
   "execution_count": 12,
   "metadata": {},
   "outputs": [
    {
     "data": {
      "text/plain": [
       "count    21597.000000\n",
       "mean         2.115826\n",
       "std          0.768984\n",
       "min          0.500000\n",
       "25%          1.750000\n",
       "50%          2.250000\n",
       "75%          2.500000\n",
       "max          8.000000\n",
       "Name: bathrooms, dtype: float64"
      ]
     },
     "execution_count": 12,
     "metadata": {},
     "output_type": "execute_result"
    }
   ],
   "source": [
    "data['bathrooms'].describe()"
   ]
  },
  {
   "cell_type": "code",
   "execution_count": 13,
   "metadata": {},
   "outputs": [],
   "source": [
    "def group_bath(x):\n",
    "        if x <= 1.75:\n",
    "            return 'up to 1.75'\n",
    "        elif x > 1.75 and x <= 2.50:\n",
    "            return 'up to 2.50'\n",
    "        else:\n",
    "            return 'more than 3'"
   ]
  },
  {
   "cell_type": "code",
   "execution_count": 14,
   "metadata": {},
   "outputs": [],
   "source": [
    "data['bathrooms'] = list(map(group_bath, data['bathrooms']))"
   ]
  },
  {
   "cell_type": "code",
   "execution_count": 15,
   "metadata": {},
   "outputs": [
    {
     "data": {
      "text/plain": [
       "up to 2.50     9354\n",
       "up to 1.75     8428\n",
       "more than 3    3815\n",
       "Name: bathrooms, dtype: int64"
      ]
     },
     "execution_count": 15,
     "metadata": {},
     "output_type": "execute_result"
    }
   ],
   "source": [
    "data['bathrooms'].value_counts()"
   ]
  },
  {
   "cell_type": "code",
   "execution_count": 16,
   "metadata": {},
   "outputs": [
    {
     "data": {
      "text/plain": [
       "count    21597.000000\n",
       "mean         0.234292\n",
       "std          0.766390\n",
       "min          0.000000\n",
       "25%          0.000000\n",
       "50%          0.000000\n",
       "75%          0.000000\n",
       "max          4.000000\n",
       "Name: view, dtype: float64"
      ]
     },
     "execution_count": 16,
     "metadata": {},
     "output_type": "execute_result"
    }
   ],
   "source": [
    "data['view'].describe()"
   ]
  },
  {
   "cell_type": "code",
   "execution_count": 17,
   "metadata": {},
   "outputs": [],
   "source": [
    "def group_view(x):\n",
    "    if x > 1:\n",
    "        return 'with a view'\n",
    "    else:\n",
    "        return 'without a view'"
   ]
  },
  {
   "cell_type": "code",
   "execution_count": 18,
   "metadata": {},
   "outputs": [],
   "source": [
    "data['view'] = list(map(group_view, data['view']))"
   ]
  },
  {
   "cell_type": "code",
   "execution_count": 19,
   "metadata": {},
   "outputs": [
    {
     "data": {
      "text/plain": [
       "without a view    19807\n",
       "with a view        1790\n",
       "Name: view, dtype: int64"
      ]
     },
     "execution_count": 19,
     "metadata": {},
     "output_type": "execute_result"
    }
   ],
   "source": [
    "data['view'].value_counts()"
   ]
  },
  {
   "cell_type": "code",
   "execution_count": 20,
   "metadata": {},
   "outputs": [
    {
     "data": {
      "text/plain": [
       "count    21597.000000\n",
       "mean         7.657915\n",
       "std          1.173200\n",
       "min          3.000000\n",
       "25%          7.000000\n",
       "50%          7.000000\n",
       "75%          8.000000\n",
       "max         13.000000\n",
       "Name: grade, dtype: float64"
      ]
     },
     "execution_count": 20,
     "metadata": {},
     "output_type": "execute_result"
    }
   ],
   "source": [
    "data['grade'].describe()"
   ]
  },
  {
   "cell_type": "code",
   "execution_count": 21,
   "metadata": {},
   "outputs": [],
   "source": [
    "def group_grade(x):\n",
    "    if x >= 6 and x<= 10:\n",
    "        return 'very good'\n",
    "    elif x < 6:\n",
    "        return 'poor'\n",
    "    else:\n",
    "        return 'excellent'"
   ]
  },
  {
   "cell_type": "code",
   "execution_count": 22,
   "metadata": {},
   "outputs": [],
   "source": [
    "data['grade'] = list(map(group_grade, data['grade']))"
   ]
  },
  {
   "cell_type": "code",
   "execution_count": 23,
   "metadata": {},
   "outputs": [
    {
     "data": {
      "text/plain": [
       "very good    20826\n",
       "excellent      501\n",
       "poor           270\n",
       "Name: grade, dtype: int64"
      ]
     },
     "execution_count": 23,
     "metadata": {},
     "output_type": "execute_result"
    }
   ],
   "source": [
    "data['grade'].value_counts()"
   ]
  },
  {
   "cell_type": "code",
   "execution_count": 24,
   "metadata": {},
   "outputs": [
    {
     "data": {
      "text/plain": [
       "count    21597.000000\n",
       "mean      1970.999676\n",
       "std         29.375234\n",
       "min       1900.000000\n",
       "25%       1951.000000\n",
       "50%       1975.000000\n",
       "75%       1997.000000\n",
       "max       2015.000000\n",
       "Name: yr_built, dtype: float64"
      ]
     },
     "execution_count": 24,
     "metadata": {},
     "output_type": "execute_result"
    }
   ],
   "source": [
    "data['yr_built'].describe()"
   ]
  },
  {
   "cell_type": "code",
   "execution_count": 25,
   "metadata": {},
   "outputs": [],
   "source": [
    "def group_years(x):\n",
    "    if x >= 1900 and x<= 2000:\n",
    "        return 'old'\n",
    "    elif x> 2000 and x <= 2010:\n",
    "        return 'new'\n",
    "    else:\n",
    "        return 'brand new'"
   ]
  },
  {
   "cell_type": "code",
   "execution_count": 26,
   "metadata": {},
   "outputs": [],
   "source": [
    "data['yr_built'] = list(map(group_years, data['yr_built']))"
   ]
  },
  {
   "cell_type": "code",
   "execution_count": 27,
   "metadata": {},
   "outputs": [
    {
     "data": {
      "text/plain": [
       "old          17059\n",
       "new           3440\n",
       "brand new     1098\n",
       "Name: yr_built, dtype: int64"
      ]
     },
     "execution_count": 27,
     "metadata": {},
     "output_type": "execute_result"
    }
   ],
   "source": [
    "data['yr_built'].value_counts()"
   ]
  },
  {
   "cell_type": "code",
   "execution_count": 28,
   "metadata": {},
   "outputs": [
    {
     "data": {
      "text/plain": [
       "count    21597.000000\n",
       "mean        84.464787\n",
       "std        401.821438\n",
       "min          0.000000\n",
       "25%          0.000000\n",
       "50%          0.000000\n",
       "75%          0.000000\n",
       "max       2015.000000\n",
       "Name: yr_renovated, dtype: float64"
      ]
     },
     "execution_count": 28,
     "metadata": {},
     "output_type": "execute_result"
    }
   ],
   "source": [
    "data['yr_renovated'].describe()\n"
   ]
  },
  {
   "cell_type": "code",
   "execution_count": 29,
   "metadata": {},
   "outputs": [],
   "source": [
    "def group_renovation(x):\n",
    "    if x > 0:\n",
    "        return 'renovated'\n",
    "    else:\n",
    "        return 'not renovated'"
   ]
  },
  {
   "cell_type": "code",
   "execution_count": 30,
   "metadata": {},
   "outputs": [],
   "source": [
    "data['yr_renovated'] = list(map(group_renovation, data['yr_renovated']))"
   ]
  },
  {
   "cell_type": "code",
   "execution_count": 31,
   "metadata": {},
   "outputs": [
    {
     "data": {
      "text/plain": [
       "not renovated    20683\n",
       "renovated          914\n",
       "Name: yr_renovated, dtype: int64"
      ]
     },
     "execution_count": 31,
     "metadata": {},
     "output_type": "execute_result"
    }
   ],
   "source": [
    "data['yr_renovated'].value_counts()"
   ]
  },
  {
   "cell_type": "code",
   "execution_count": 32,
   "metadata": {},
   "outputs": [
    {
     "data": {
      "text/plain": [
       "count    21597.000000\n",
       "mean         1.494096\n",
       "std          0.539683\n",
       "min          1.000000\n",
       "25%          1.000000\n",
       "50%          1.500000\n",
       "75%          2.000000\n",
       "max          3.500000\n",
       "Name: floors, dtype: float64"
      ]
     },
     "execution_count": 32,
     "metadata": {},
     "output_type": "execute_result"
    }
   ],
   "source": [
    "data['floors'].describe()"
   ]
  },
  {
   "cell_type": "code",
   "execution_count": 33,
   "metadata": {},
   "outputs": [],
   "source": [
    "def group_floors(x):\n",
    "    if x == 1:\n",
    "        return '1 floor'\n",
    "    elif x >1 and x <=2:\n",
    "        return 'up to 2 floors'\n",
    "    else:\n",
    "        return 'more than 2 floors'"
   ]
  },
  {
   "cell_type": "code",
   "execution_count": 34,
   "metadata": {},
   "outputs": [],
   "source": [
    "data['floors'] = list(map(group_floors, data['floors']))\n"
   ]
  },
  {
   "cell_type": "code",
   "execution_count": 35,
   "metadata": {},
   "outputs": [
    {
     "data": {
      "text/plain": [
       "1 floor               10673\n",
       "up to 2 floors        10145\n",
       "more than 2 floors      779\n",
       "Name: floors, dtype: int64"
      ]
     },
     "execution_count": 35,
     "metadata": {},
     "output_type": "execute_result"
    }
   ],
   "source": [
    "data['floors'].value_counts()"
   ]
  },
  {
   "cell_type": "code",
   "execution_count": 36,
   "metadata": {},
   "outputs": [
    {
     "data": {
      "text/html": [
       "<div>\n",
       "<style scoped>\n",
       "    .dataframe tbody tr th:only-of-type {\n",
       "        vertical-align: middle;\n",
       "    }\n",
       "\n",
       "    .dataframe tbody tr th {\n",
       "        vertical-align: top;\n",
       "    }\n",
       "\n",
       "    .dataframe thead th {\n",
       "        text-align: right;\n",
       "    }\n",
       "</style>\n",
       "<table border=\"1\" class=\"dataframe\">\n",
       "  <thead>\n",
       "    <tr style=\"text-align: right;\">\n",
       "      <th></th>\n",
       "      <th>sqft_above</th>\n",
       "      <th>sqft_living15</th>\n",
       "      <th>bathrooms</th>\n",
       "      <th>view</th>\n",
       "      <th>sqft_basement</th>\n",
       "      <th>floors</th>\n",
       "      <th>grade</th>\n",
       "      <th>condition</th>\n",
       "      <th>yr_built</th>\n",
       "      <th>yr_renovated</th>\n",
       "      <th>price</th>\n",
       "    </tr>\n",
       "  </thead>\n",
       "  <tbody>\n",
       "    <tr>\n",
       "      <th>0</th>\n",
       "      <td>1450</td>\n",
       "      <td>1260</td>\n",
       "      <td>up to 1.75</td>\n",
       "      <td>without a view</td>\n",
       "      <td>0</td>\n",
       "      <td>1 floor</td>\n",
       "      <td>very good</td>\n",
       "      <td>4</td>\n",
       "      <td>old</td>\n",
       "      <td>not renovated</td>\n",
       "      <td>435000</td>\n",
       "    </tr>\n",
       "    <tr>\n",
       "      <th>1</th>\n",
       "      <td>3310</td>\n",
       "      <td>2380</td>\n",
       "      <td>up to 2.50</td>\n",
       "      <td>without a view</td>\n",
       "      <td>0</td>\n",
       "      <td>up to 2 floors</td>\n",
       "      <td>very good</td>\n",
       "      <td>3</td>\n",
       "      <td>brand new</td>\n",
       "      <td>not renovated</td>\n",
       "      <td>555000</td>\n",
       "    </tr>\n",
       "    <tr>\n",
       "      <th>2</th>\n",
       "      <td>1140</td>\n",
       "      <td>2200</td>\n",
       "      <td>up to 2.50</td>\n",
       "      <td>without a view</td>\n",
       "      <td>800</td>\n",
       "      <td>1 floor</td>\n",
       "      <td>very good</td>\n",
       "      <td>4</td>\n",
       "      <td>old</td>\n",
       "      <td>not renovated</td>\n",
       "      <td>550000</td>\n",
       "    </tr>\n",
       "    <tr>\n",
       "      <th>3</th>\n",
       "      <td>1280</td>\n",
       "      <td>1590</td>\n",
       "      <td>up to 2.50</td>\n",
       "      <td>without a view</td>\n",
       "      <td>350</td>\n",
       "      <td>up to 2 floors</td>\n",
       "      <td>very good</td>\n",
       "      <td>3</td>\n",
       "      <td>new</td>\n",
       "      <td>not renovated</td>\n",
       "      <td>295000</td>\n",
       "    </tr>\n",
       "    <tr>\n",
       "      <th>4</th>\n",
       "      <td>1700</td>\n",
       "      <td>2380</td>\n",
       "      <td>up to 2.50</td>\n",
       "      <td>without a view</td>\n",
       "      <td>900</td>\n",
       "      <td>1 floor</td>\n",
       "      <td>very good</td>\n",
       "      <td>4</td>\n",
       "      <td>old</td>\n",
       "      <td>not renovated</td>\n",
       "      <td>790000</td>\n",
       "    </tr>\n",
       "    <tr>\n",
       "      <th>...</th>\n",
       "      <td>...</td>\n",
       "      <td>...</td>\n",
       "      <td>...</td>\n",
       "      <td>...</td>\n",
       "      <td>...</td>\n",
       "      <td>...</td>\n",
       "      <td>...</td>\n",
       "      <td>...</td>\n",
       "      <td>...</td>\n",
       "      <td>...</td>\n",
       "      <td>...</td>\n",
       "    </tr>\n",
       "    <tr>\n",
       "      <th>21592</th>\n",
       "      <td>1380</td>\n",
       "      <td>1810</td>\n",
       "      <td>up to 1.75</td>\n",
       "      <td>without a view</td>\n",
       "      <td>600</td>\n",
       "      <td>1 floor</td>\n",
       "      <td>very good</td>\n",
       "      <td>4</td>\n",
       "      <td>old</td>\n",
       "      <td>not renovated</td>\n",
       "      <td>725000</td>\n",
       "    </tr>\n",
       "    <tr>\n",
       "      <th>21593</th>\n",
       "      <td>1410</td>\n",
       "      <td>2950</td>\n",
       "      <td>up to 2.50</td>\n",
       "      <td>without a view</td>\n",
       "      <td>0</td>\n",
       "      <td>1 floor</td>\n",
       "      <td>very good</td>\n",
       "      <td>4</td>\n",
       "      <td>old</td>\n",
       "      <td>not renovated</td>\n",
       "      <td>335000</td>\n",
       "    </tr>\n",
       "    <tr>\n",
       "      <th>21594</th>\n",
       "      <td>1870</td>\n",
       "      <td>1870</td>\n",
       "      <td>up to 2.50</td>\n",
       "      <td>without a view</td>\n",
       "      <td>0</td>\n",
       "      <td>up to 2 floors</td>\n",
       "      <td>very good</td>\n",
       "      <td>3</td>\n",
       "      <td>old</td>\n",
       "      <td>not renovated</td>\n",
       "      <td>450000</td>\n",
       "    </tr>\n",
       "    <tr>\n",
       "      <th>21595</th>\n",
       "      <td>720</td>\n",
       "      <td>920</td>\n",
       "      <td>up to 1.75</td>\n",
       "      <td>without a view</td>\n",
       "      <td>670</td>\n",
       "      <td>1 floor</td>\n",
       "      <td>very good</td>\n",
       "      <td>3</td>\n",
       "      <td>old</td>\n",
       "      <td>not renovated</td>\n",
       "      <td>445500</td>\n",
       "    </tr>\n",
       "    <tr>\n",
       "      <th>21596</th>\n",
       "      <td>2440</td>\n",
       "      <td>2170</td>\n",
       "      <td>up to 2.50</td>\n",
       "      <td>without a view</td>\n",
       "      <td>1310</td>\n",
       "      <td>up to 2 floors</td>\n",
       "      <td>very good</td>\n",
       "      <td>5</td>\n",
       "      <td>old</td>\n",
       "      <td>not renovated</td>\n",
       "      <td>1310000</td>\n",
       "    </tr>\n",
       "  </tbody>\n",
       "</table>\n",
       "<p>21597 rows × 11 columns</p>\n",
       "</div>"
      ],
      "text/plain": [
       "       sqft_above  sqft_living15   bathrooms            view  sqft_basement  \\\n",
       "0            1450           1260  up to 1.75  without a view              0   \n",
       "1            3310           2380  up to 2.50  without a view              0   \n",
       "2            1140           2200  up to 2.50  without a view            800   \n",
       "3            1280           1590  up to 2.50  without a view            350   \n",
       "4            1700           2380  up to 2.50  without a view            900   \n",
       "...           ...            ...         ...             ...            ...   \n",
       "21592        1380           1810  up to 1.75  without a view            600   \n",
       "21593        1410           2950  up to 2.50  without a view              0   \n",
       "21594        1870           1870  up to 2.50  without a view              0   \n",
       "21595         720            920  up to 1.75  without a view            670   \n",
       "21596        2440           2170  up to 2.50  without a view           1310   \n",
       "\n",
       "               floors      grade  condition   yr_built   yr_renovated    price  \n",
       "0             1 floor  very good          4        old  not renovated   435000  \n",
       "1      up to 2 floors  very good          3  brand new  not renovated   555000  \n",
       "2             1 floor  very good          4        old  not renovated   550000  \n",
       "3      up to 2 floors  very good          3        new  not renovated   295000  \n",
       "4             1 floor  very good          4        old  not renovated   790000  \n",
       "...               ...        ...        ...        ...            ...      ...  \n",
       "21592         1 floor  very good          4        old  not renovated   725000  \n",
       "21593         1 floor  very good          4        old  not renovated   335000  \n",
       "21594  up to 2 floors  very good          3        old  not renovated   450000  \n",
       "21595         1 floor  very good          3        old  not renovated   445500  \n",
       "21596  up to 2 floors  very good          5        old  not renovated  1310000  \n",
       "\n",
       "[21597 rows x 11 columns]"
      ]
     },
     "execution_count": 36,
     "metadata": {},
     "output_type": "execute_result"
    }
   ],
   "source": [
    "data"
   ]
  },
  {
   "cell_type": "code",
   "execution_count": 47,
   "metadata": {},
   "outputs": [],
   "source": [
    "data.to_csv(r'/Users/claudia/Ironhack/Mid-Bootcamp Project/Linear_Regression_MidBootCampProject-/df_2nd_iter_feat_extract.csv')"
   ]
  }
 ],
 "metadata": {
  "kernelspec": {
   "display_name": "Python 3",
   "language": "python",
   "name": "python3"
  },
  "language_info": {
   "codemirror_mode": {
    "name": "ipython",
    "version": 3
   },
   "file_extension": ".py",
   "mimetype": "text/x-python",
   "name": "python",
   "nbconvert_exporter": "python",
   "pygments_lexer": "ipython3",
   "version": "3.8.3"
  }
 },
 "nbformat": 4,
 "nbformat_minor": 4
}
